{
 "cells": [
  {
   "cell_type": "code",
   "execution_count": 217,
   "metadata": {
    "collapsed": true
   },
   "outputs": [],
   "source": [
    "# To support both python 2 and python 3\n",
    "from __future__ import division, print_function, unicode_literals\n",
    "\n",
    "# Common imports\n",
    "import numpy as np\n",
    "import os\n",
    "import pandas as pd\n",
    "\n",
    "# to make this notebook's output stable across runs\n",
    "np.random.seed(42)\n",
    "\n",
    "# To plot pretty figures\n",
    "%matplotlib inline\n",
    "import matplotlib\n",
    "import matplotlib.pyplot as plt\n",
    "plt.rcParams['axes.labelsize'] = 14\n",
    "plt.rcParams['xtick.labelsize'] = 12\n",
    "plt.rcParams['ytick.labelsize'] = 12"
   ]
  },
  {
   "cell_type": "code",
   "execution_count": 303,
   "metadata": {
    "collapsed": false
   },
   "outputs": [],
   "source": [
    "train_df = pd.read_csv(\"train_2016_v2.csv\", parse_dates=[\"transactiondate\"])"
   ]
  },
  {
   "cell_type": "code",
   "execution_count": 259,
   "metadata": {
    "collapsed": false
   },
   "outputs": [
    {
     "name": "stdout",
     "output_type": "stream",
     "text": [
      "<class 'pandas.core.frame.DataFrame'>\n",
      "RangeIndex: 90275 entries, 0 to 90274\n",
      "Data columns (total 3 columns):\n",
      "parcelid           90275 non-null int64\n",
      "logerror           90275 non-null float64\n",
      "transactiondate    90275 non-null datetime64[ns]\n",
      "dtypes: datetime64[ns](1), float64(1), int64(1)\n",
      "memory usage: 2.1 MB\n"
     ]
    }
   ],
   "source": [
    "train_df.info()"
   ]
  },
  {
   "cell_type": "code",
   "execution_count": 300,
   "metadata": {
    "collapsed": false
   },
   "outputs": [],
   "source": [
    "test_df = pd.read_csv(\"sample_submission.csv\")"
   ]
  },
  {
   "cell_type": "code",
   "execution_count": 308,
   "metadata": {
    "collapsed": false
   },
   "outputs": [],
   "source": [
    "test_df = test_df.rename(index=str, columns={\"ParcelId\": \"parcelid\"})"
   ]
  },
  {
   "cell_type": "code",
   "execution_count": 199,
   "metadata": {
    "collapsed": false
   },
   "outputs": [],
   "source": [
    "properties_2016_df = pd.read_csv(\"properties_2016.csv\")"
   ]
  },
  {
   "cell_type": "code",
   "execution_count": 304,
   "metadata": {
    "collapsed": false
   },
   "outputs": [],
   "source": [
    "train_df = pd.merge(train_df, properties_2016_df, on='parcelid', how='left')"
   ]
  },
  {
   "cell_type": "code",
   "execution_count": 309,
   "metadata": {
    "collapsed": false
   },
   "outputs": [],
   "source": [
    "test_df = pd.merge(test_df, properties_2016_df, on='parcelid', how='left')"
   ]
  },
  {
   "cell_type": "code",
   "execution_count": 312,
   "metadata": {
    "collapsed": false
   },
   "outputs": [
    {
     "name": "stdout",
     "output_type": "stream",
     "text": [
      "<class 'pandas.core.frame.DataFrame'>\n",
      "Int64Index: 2985217 entries, 0 to 2985216\n",
      "Data columns (total 64 columns):\n",
      "parcelid                        int64\n",
      "201610                          int64\n",
      "201611                          int64\n",
      "201612                          int64\n",
      "201710                          int64\n",
      "201711                          int64\n",
      "201712                          int64\n",
      "airconditioningtypeid           float64\n",
      "architecturalstyletypeid        float64\n",
      "basementsqft                    float64\n",
      "bathroomcnt                     float64\n",
      "bedroomcnt                      float64\n",
      "buildingclasstypeid             float64\n",
      "buildingqualitytypeid           float64\n",
      "calculatedbathnbr               float64\n",
      "decktypeid                      float64\n",
      "finishedfloor1squarefeet        float64\n",
      "calculatedfinishedsquarefeet    float64\n",
      "finishedsquarefeet12            float64\n",
      "finishedsquarefeet13            float64\n",
      "finishedsquarefeet15            float64\n",
      "finishedsquarefeet50            float64\n",
      "finishedsquarefeet6             float64\n",
      "fips                            float64\n",
      "fireplacecnt                    float64\n",
      "fullbathcnt                     float64\n",
      "garagecarcnt                    float64\n",
      "garagetotalsqft                 float64\n",
      "hashottuborspa                  object\n",
      "heatingorsystemtypeid           float64\n",
      "latitude                        float64\n",
      "longitude                       float64\n",
      "lotsizesquarefeet               float64\n",
      "poolcnt                         float64\n",
      "poolsizesum                     float64\n",
      "pooltypeid10                    float64\n",
      "pooltypeid2                     float64\n",
      "pooltypeid7                     float64\n",
      "propertycountylandusecode       object\n",
      "propertylandusetypeid           float64\n",
      "propertyzoningdesc              object\n",
      "rawcensustractandblock          float64\n",
      "regionidcity                    float64\n",
      "regionidcounty                  float64\n",
      "regionidneighborhood            float64\n",
      "regionidzip                     float64\n",
      "roomcnt                         float64\n",
      "storytypeid                     float64\n",
      "threequarterbathnbr             float64\n",
      "typeconstructiontypeid          float64\n",
      "unitcnt                         float64\n",
      "yardbuildingsqft17              float64\n",
      "yardbuildingsqft26              float64\n",
      "yearbuilt                       float64\n",
      "numberofstories                 float64\n",
      "fireplaceflag                   object\n",
      "structuretaxvaluedollarcnt      float64\n",
      "taxvaluedollarcnt               float64\n",
      "assessmentyear                  float64\n",
      "landtaxvaluedollarcnt           float64\n",
      "taxamount                       float64\n",
      "taxdelinquencyflag              object\n",
      "taxdelinquencyyear              float64\n",
      "censustractandblock             float64\n",
      "dtypes: float64(52), int64(7), object(5)\n",
      "memory usage: 1.4+ GB\n"
     ]
    }
   ],
   "source": [
    "test_df.info()"
   ]
  },
  {
   "cell_type": "code",
   "execution_count": 311,
   "metadata": {
    "collapsed": true
   },
   "outputs": [],
   "source": [
    "# to make this notebook's output identical at every run\n",
    "np.random.seed(42)"
   ]
  },
  {
   "cell_type": "code",
   "execution_count": 264,
   "metadata": {
    "collapsed": false
   },
   "outputs": [],
   "source": [
    "corr_matrix = train_df.corr()"
   ]
  },
  {
   "cell_type": "code",
   "execution_count": 265,
   "metadata": {
    "collapsed": false
   },
   "outputs": [
    {
     "data": {
      "text/plain": [
       "logerror                        1.000000\n",
       "basementsqft                    0.253395\n",
       "yardbuildingsqft26              0.086179\n",
       "finishedsquarefeet12            0.041922\n",
       "calculatedfinishedsquarefeet    0.038784\n",
       "finishedsquarefeet6             0.036847\n",
       "finishedsquarefeet13            0.034715\n",
       "threequarterbathnbr             0.034069\n",
       "fireplacecnt                    0.033235\n",
       "calculatedbathnbr               0.029448\n",
       "fullbathcnt                     0.028845\n",
       "bathroomcnt                     0.027889\n",
       "garagecarcnt                    0.026531\n",
       "finishedfloor1squarefeet        0.026242\n",
       "bedroomcnt                      0.025467\n",
       "garagetotalsqft                 0.023888\n",
       "finishedsquarefeet50            0.023619\n",
       "structuretaxvaluedollarcnt      0.022085\n",
       "finishedsquarefeet15            0.019327\n",
       "yearbuilt                       0.017312\n",
       "numberofstories                 0.013075\n",
       "censustractandblock             0.008892\n",
       "rawcensustractandblock          0.008376\n",
       "fips                            0.008363\n",
       "taxvaluedollarcnt               0.006508\n",
       "roomcnt                         0.005760\n",
       "airconditioningtypeid           0.005179\n",
       "latitude                        0.004915\n",
       "parcelid                        0.004837\n",
       "lotsizesquarefeet               0.004835\n",
       "propertylandusetypeid           0.001003\n",
       "regionidcounty                  0.000341\n",
       "poolsizesum                    -0.000454\n",
       "regionidcity                   -0.002121\n",
       "landtaxvaluedollarcnt          -0.003051\n",
       "longitude                      -0.003432\n",
       "unitcnt                        -0.003983\n",
       "architecturalstyletypeid       -0.004276\n",
       "regionidneighborhood           -0.004638\n",
       "regionidzip                    -0.006507\n",
       "taxamount                      -0.006671\n",
       "buildingqualitytypeid          -0.009573\n",
       "taxdelinquencyyear             -0.012996\n",
       "typeconstructiontypeid         -0.022419\n",
       "yardbuildingsqft17             -0.023692\n",
       "heatingorsystemtypeid          -0.025018\n",
       "buildingclasstypeid                  NaN\n",
       "decktypeid                           NaN\n",
       "poolcnt                              NaN\n",
       "pooltypeid10                         NaN\n",
       "pooltypeid2                          NaN\n",
       "pooltypeid7                          NaN\n",
       "storytypeid                          NaN\n",
       "assessmentyear                       NaN\n",
       "Name: logerror, dtype: float64"
      ]
     },
     "execution_count": 265,
     "metadata": {},
     "output_type": "execute_result"
    }
   ],
   "source": [
    "corr_matrix[\"logerror\"].sort_values(ascending=False)"
   ]
  },
  {
   "cell_type": "code",
   "execution_count": 266,
   "metadata": {
    "collapsed": false
   },
   "outputs": [
    {
     "data": {
      "text/plain": [
       "array([[<matplotlib.axes._subplots.AxesSubplot object at 0x000000003939D278>,\n",
       "        <matplotlib.axes._subplots.AxesSubplot object at 0x000000004A95B5F8>,\n",
       "        <matplotlib.axes._subplots.AxesSubplot object at 0x000000005BE43668>,\n",
       "        <matplotlib.axes._subplots.AxesSubplot object at 0x00000000197613C8>],\n",
       "       [<matplotlib.axes._subplots.AxesSubplot object at 0x0000000051B009B0>,\n",
       "        <matplotlib.axes._subplots.AxesSubplot object at 0x000000005211EAC8>,\n",
       "        <matplotlib.axes._subplots.AxesSubplot object at 0x0000000033F76CF8>,\n",
       "        <matplotlib.axes._subplots.AxesSubplot object at 0x00000000848D41D0>],\n",
       "       [<matplotlib.axes._subplots.AxesSubplot object at 0x0000000024666C88>,\n",
       "        <matplotlib.axes._subplots.AxesSubplot object at 0x000000004F611B70>,\n",
       "        <matplotlib.axes._subplots.AxesSubplot object at 0x000000000F131FD0>,\n",
       "        <matplotlib.axes._subplots.AxesSubplot object at 0x000000007CF85908>],\n",
       "       [<matplotlib.axes._subplots.AxesSubplot object at 0x000000007CF2CB00>,\n",
       "        <matplotlib.axes._subplots.AxesSubplot object at 0x0000000055BE7898>,\n",
       "        <matplotlib.axes._subplots.AxesSubplot object at 0x000000000E22D6D8>,\n",
       "        <matplotlib.axes._subplots.AxesSubplot object at 0x000000004EC985F8>]], dtype=object)"
      ]
     },
     "execution_count": 266,
     "metadata": {},
     "output_type": "execute_result"
    },
    {
     "data": {
      "image/png": "[encoded data removed]",
      "text/plain": [
       "<matplotlib.figure.Figure at 0x153e03c8>"
      ]
     },
     "metadata": {},
     "output_type": "display_data"
    }
   ],
   "source": [
    "# from pandas.tools.plotting import scatter_matrix # For older versions of Pandas\n",
    "from pandas.tools.plotting import scatter_matrix\n",
    "\n",
    "attributes = [\"basementsqft\", \"yardbuildingsqft26\", \"threequarterbathnbr\",\n",
    "              \"finishedsquarefeet12\"]\n",
    "scatter_matrix(train_df[attributes], figsize=(12, 8))\n"
   ]
  },
  {
   "cell_type": "markdown",
   "metadata": {},
   "source": [
    "### Prepare the data for Machine Learning algorithms"
   ]
  },
  {
   "cell_type": "code",
   "execution_count": 267,
   "metadata": {
    "collapsed": false
   },
   "outputs": [
    {
     "data": {
      "text/html": [
       "<div>\n",
       "<table border=\"1\" class=\"dataframe\">\n",
       "  <thead>\n",
       "    <tr style=\"text-align: right;\">\n",
       "      <th></th>\n",
       "      <th>parcelid</th>\n",
       "      <th>logerror</th>\n",
       "      <th>transactiondate</th>\n",
       "      <th>airconditioningtypeid</th>\n",
       "      <th>architecturalstyletypeid</th>\n",
       "      <th>basementsqft</th>\n",
       "      <th>bathroomcnt</th>\n",
       "      <th>bedroomcnt</th>\n",
       "      <th>buildingclasstypeid</th>\n",
       "      <th>buildingqualitytypeid</th>\n",
       "      <th>...</th>\n",
       "      <th>numberofstories</th>\n",
       "      <th>fireplaceflag</th>\n",
       "      <th>structuretaxvaluedollarcnt</th>\n",
       "      <th>taxvaluedollarcnt</th>\n",
       "      <th>assessmentyear</th>\n",
       "      <th>landtaxvaluedollarcnt</th>\n",
       "      <th>taxamount</th>\n",
       "      <th>taxdelinquencyflag</th>\n",
       "      <th>taxdelinquencyyear</th>\n",
       "      <th>censustractandblock</th>\n",
       "    </tr>\n",
       "  </thead>\n",
       "  <tbody>\n",
       "    <tr>\n",
       "      <th>0</th>\n",
       "      <td>11016594</td>\n",
       "      <td>0.0276</td>\n",
       "      <td>2016-01-01</td>\n",
       "      <td>1.0</td>\n",
       "      <td>NaN</td>\n",
       "      <td>NaN</td>\n",
       "      <td>2.0</td>\n",
       "      <td>3.0</td>\n",
       "      <td>NaN</td>\n",
       "      <td>4.0</td>\n",
       "      <td>...</td>\n",
       "      <td>NaN</td>\n",
       "      <td>NaN</td>\n",
       "      <td>122754.0</td>\n",
       "      <td>360170.0</td>\n",
       "      <td>2015.0</td>\n",
       "      <td>237416.0</td>\n",
       "      <td>6735.88</td>\n",
       "      <td>NaN</td>\n",
       "      <td>NaN</td>\n",
       "      <td>6.037107e+13</td>\n",
       "    </tr>\n",
       "    <tr>\n",
       "      <th>1</th>\n",
       "      <td>14366692</td>\n",
       "      <td>-0.1684</td>\n",
       "      <td>2016-01-01</td>\n",
       "      <td>NaN</td>\n",
       "      <td>NaN</td>\n",
       "      <td>NaN</td>\n",
       "      <td>3.5</td>\n",
       "      <td>4.0</td>\n",
       "      <td>NaN</td>\n",
       "      <td>NaN</td>\n",
       "      <td>...</td>\n",
       "      <td>NaN</td>\n",
       "      <td>NaN</td>\n",
       "      <td>346458.0</td>\n",
       "      <td>585529.0</td>\n",
       "      <td>2015.0</td>\n",
       "      <td>239071.0</td>\n",
       "      <td>10153.02</td>\n",
       "      <td>NaN</td>\n",
       "      <td>NaN</td>\n",
       "      <td>NaN</td>\n",
       "    </tr>\n",
       "    <tr>\n",
       "      <th>2</th>\n",
       "      <td>12098116</td>\n",
       "      <td>-0.0040</td>\n",
       "      <td>2016-01-01</td>\n",
       "      <td>1.0</td>\n",
       "      <td>NaN</td>\n",
       "      <td>NaN</td>\n",
       "      <td>3.0</td>\n",
       "      <td>2.0</td>\n",
       "      <td>NaN</td>\n",
       "      <td>4.0</td>\n",
       "      <td>...</td>\n",
       "      <td>NaN</td>\n",
       "      <td>NaN</td>\n",
       "      <td>61994.0</td>\n",
       "      <td>119906.0</td>\n",
       "      <td>2015.0</td>\n",
       "      <td>57912.0</td>\n",
       "      <td>11484.48</td>\n",
       "      <td>NaN</td>\n",
       "      <td>NaN</td>\n",
       "      <td>6.037464e+13</td>\n",
       "    </tr>\n",
       "    <tr>\n",
       "      <th>3</th>\n",
       "      <td>12643413</td>\n",
       "      <td>0.0218</td>\n",
       "      <td>2016-01-02</td>\n",
       "      <td>1.0</td>\n",
       "      <td>NaN</td>\n",
       "      <td>NaN</td>\n",
       "      <td>2.0</td>\n",
       "      <td>2.0</td>\n",
       "      <td>NaN</td>\n",
       "      <td>4.0</td>\n",
       "      <td>...</td>\n",
       "      <td>NaN</td>\n",
       "      <td>NaN</td>\n",
       "      <td>171518.0</td>\n",
       "      <td>244880.0</td>\n",
       "      <td>2015.0</td>\n",
       "      <td>73362.0</td>\n",
       "      <td>3048.74</td>\n",
       "      <td>NaN</td>\n",
       "      <td>NaN</td>\n",
       "      <td>6.037296e+13</td>\n",
       "    </tr>\n",
       "    <tr>\n",
       "      <th>4</th>\n",
       "      <td>14432541</td>\n",
       "      <td>-0.0050</td>\n",
       "      <td>2016-01-02</td>\n",
       "      <td>NaN</td>\n",
       "      <td>NaN</td>\n",
       "      <td>NaN</td>\n",
       "      <td>2.5</td>\n",
       "      <td>4.0</td>\n",
       "      <td>NaN</td>\n",
       "      <td>NaN</td>\n",
       "      <td>...</td>\n",
       "      <td>2.0</td>\n",
       "      <td>NaN</td>\n",
       "      <td>169574.0</td>\n",
       "      <td>434551.0</td>\n",
       "      <td>2015.0</td>\n",
       "      <td>264977.0</td>\n",
       "      <td>5488.96</td>\n",
       "      <td>NaN</td>\n",
       "      <td>NaN</td>\n",
       "      <td>6.059042e+13</td>\n",
       "    </tr>\n",
       "  </tbody>\n",
       "</table>\n",
       "<p>5 rows × 60 columns</p>\n",
       "</div>"
      ],
      "text/plain": [
       "   parcelid  logerror transactiondate  airconditioningtypeid  \\\n",
       "0  11016594    0.0276      2016-01-01                    1.0   \n",
       "1  14366692   -0.1684      2016-01-01                    NaN   \n",
       "2  12098116   -0.0040      2016-01-01                    1.0   \n",
       "3  12643413    0.0218      2016-01-02                    1.0   \n",
       "4  14432541   -0.0050      2016-01-02                    NaN   \n",
       "\n",
       "   architecturalstyletypeid  basementsqft  bathroomcnt  bedroomcnt  \\\n",
       "0                       NaN           NaN          2.0         3.0   \n",
       "1                       NaN           NaN          3.5         4.0   \n",
       "2                       NaN           NaN          3.0         2.0   \n",
       "3                       NaN           NaN          2.0         2.0   \n",
       "4                       NaN           NaN          2.5         4.0   \n",
       "\n",
       "   buildingclasstypeid  buildingqualitytypeid         ...           \\\n",
       "0                  NaN                    4.0         ...            \n",
       "1                  NaN                    NaN         ...            \n",
       "2                  NaN                    4.0         ...            \n",
       "3                  NaN                    4.0         ...            \n",
       "4                  NaN                    NaN         ...            \n",
       "\n",
       "   numberofstories  fireplaceflag  structuretaxvaluedollarcnt  \\\n",
       "0              NaN            NaN                    122754.0   \n",
       "1              NaN            NaN                    346458.0   \n",
       "2              NaN            NaN                     61994.0   \n",
       "3              NaN            NaN                    171518.0   \n",
       "4              2.0            NaN                    169574.0   \n",
       "\n",
       "   taxvaluedollarcnt  assessmentyear  landtaxvaluedollarcnt  taxamount  \\\n",
       "0           360170.0          2015.0               237416.0    6735.88   \n",
       "1           585529.0          2015.0               239071.0   10153.02   \n",
       "2           119906.0          2015.0                57912.0   11484.48   \n",
       "3           244880.0          2015.0                73362.0    3048.74   \n",
       "4           434551.0          2015.0               264977.0    5488.96   \n",
       "\n",
       "   taxdelinquencyflag  taxdelinquencyyear  censustractandblock  \n",
       "0                 NaN                 NaN         6.037107e+13  \n",
       "1                 NaN                 NaN                  NaN  \n",
       "2                 NaN                 NaN         6.037464e+13  \n",
       "3                 NaN                 NaN         6.037296e+13  \n",
       "4                 NaN                 NaN         6.059042e+13  \n",
       "\n",
       "[5 rows x 60 columns]"
      ]
     },
     "execution_count": 267,
     "metadata": {},
     "output_type": "execute_result"
    }
   ],
   "source": [
    "sample_incomplete_rows = train_df[train_df.isnull().any(axis=1)].head()\n",
    "sample_incomplete_rows"
   ]
  },
  {
   "cell_type": "code",
   "execution_count": 268,
   "metadata": {
    "collapsed": false
   },
   "outputs": [
    {
     "data": {
      "text/plain": [
       "parcelid                        0.000000\n",
       "logerror                        0.000000\n",
       "transactiondate                 0.000000\n",
       "airconditioningtypeid           0.681185\n",
       "architecturalstyletypeid        0.997109\n",
       "basementsqft                    0.999524\n",
       "bathroomcnt                     0.000000\n",
       "bedroomcnt                      0.000000\n",
       "buildingclasstypeid             0.999823\n",
       "buildingqualitytypeid           0.364564\n",
       "calculatedbathnbr               0.013093\n",
       "decktypeid                      0.992711\n",
       "finishedfloor1squarefeet        0.924054\n",
       "calculatedfinishedsquarefeet    0.007322\n",
       "finishedsquarefeet12            0.051831\n",
       "finishedsquarefeet13            0.999634\n",
       "finishedsquarefeet15            0.960521\n",
       "finishedsquarefeet50            0.924054\n",
       "finishedsquarefeet6             0.995336\n",
       "fips                            0.000000\n",
       "fireplacecnt                    0.893581\n",
       "fullbathcnt                     0.013093\n",
       "garagecarcnt                    0.668380\n",
       "garagetotalsqft                 0.668380\n",
       "hashottuborspa                  0.973802\n",
       "heatingorsystemtypeid           0.378787\n",
       "latitude                        0.000000\n",
       "longitude                       0.000000\n",
       "lotsizesquarefeet               0.112434\n",
       "poolcnt                         0.801706\n",
       "poolsizesum                     0.989266\n",
       "pooltypeid10                    0.987139\n",
       "pooltypeid2                     0.986663\n",
       "pooltypeid7                     0.815043\n",
       "propertycountylandusecode       0.000011\n",
       "propertylandusetypeid           0.000000\n",
       "propertyzoningdesc              0.354052\n",
       "rawcensustractandblock          0.000000\n",
       "regionidcity                    0.019972\n",
       "regionidcounty                  0.000000\n",
       "regionidneighborhood            0.601086\n",
       "regionidzip                     0.000388\n",
       "roomcnt                         0.000000\n",
       "storytypeid                     0.999524\n",
       "threequarterbathnbr             0.866973\n",
       "typeconstructiontypeid          0.996688\n",
       "unitcnt                         0.353608\n",
       "yardbuildingsqft17              0.970690\n",
       "yardbuildingsqft26              0.998948\n",
       "yearbuilt                       0.008374\n",
       "numberofstories                 0.772141\n",
       "fireplaceflag                   0.997541\n",
       "structuretaxvaluedollarcnt      0.004209\n",
       "taxvaluedollarcnt               0.000011\n",
       "assessmentyear                  0.000000\n",
       "landtaxvaluedollarcnt           0.000011\n",
       "taxamount                       0.000066\n",
       "taxdelinquencyflag              0.980249\n",
       "taxdelinquencyyear              0.980249\n",
       "censustractandblock             0.006702\n",
       "dtype: float64"
      ]
     },
     "execution_count": 268,
     "metadata": {},
     "output_type": "execute_result"
    }
   ],
   "source": [
    "Blanks = train_df.isnull().sum() / len(train_df)\n",
    "Blanks"
   ]
  },
  {
   "cell_type": "code",
   "execution_count": 269,
   "metadata": {
    "collapsed": false
   },
   "outputs": [],
   "source": [
    "#Drop fields with over 75% NANs\n",
    "train_df = train_df.drop(['taxdelinquencyyear', 'taxdelinquencyflag', 'fireplaceflag', 'yardbuildingsqft26', \n",
    "                       'yardbuildingsqft17', 'typeconstructiontypeid', 'storytypeid', 'poolsizesum', \n",
    "                       'pooltypeid10', 'pooltypeid2', 'hashottuborspa',\n",
    "                       'finishedsquarefeet13', 'finishedsquarefeet15', 'finishedsquarefeet50', 'finishedsquarefeet6',\n",
    "                       'decktypeid', 'finishedfloor1squarefeet', 'buildingclasstypeid', \n",
    "                       'architecturalstyletypeid', 'basementsqft', 'architecturalstyletypeid',\n",
    "                       'threequarterbathnbr', 'fireplacecnt', 'poolcnt', 'pooltypeid7', 'numberofstories'], axis = 1)\n",
    "\n"
   ]
  },
  {
   "cell_type": "code",
   "execution_count": 270,
   "metadata": {
    "collapsed": false
   },
   "outputs": [
    {
     "data": {
      "text/plain": [
       "parcelid                        0.000000\n",
       "logerror                        0.000000\n",
       "transactiondate                 0.000000\n",
       "airconditioningtypeid           0.681185\n",
       "bathroomcnt                     0.000000\n",
       "bedroomcnt                      0.000000\n",
       "buildingqualitytypeid           0.364564\n",
       "calculatedbathnbr               0.013093\n",
       "calculatedfinishedsquarefeet    0.007322\n",
       "finishedsquarefeet12            0.051831\n",
       "fips                            0.000000\n",
       "fullbathcnt                     0.013093\n",
       "garagecarcnt                    0.668380\n",
       "garagetotalsqft                 0.668380\n",
       "heatingorsystemtypeid           0.378787\n",
       "latitude                        0.000000\n",
       "longitude                       0.000000\n",
       "lotsizesquarefeet               0.112434\n",
       "propertycountylandusecode       0.000011\n",
       "propertylandusetypeid           0.000000\n",
       "propertyzoningdesc              0.354052\n",
       "rawcensustractandblock          0.000000\n",
       "regionidcity                    0.019972\n",
       "regionidcounty                  0.000000\n",
       "regionidneighborhood            0.601086\n",
       "regionidzip                     0.000388\n",
       "roomcnt                         0.000000\n",
       "unitcnt                         0.353608\n",
       "yearbuilt                       0.008374\n",
       "structuretaxvaluedollarcnt      0.004209\n",
       "taxvaluedollarcnt               0.000011\n",
       "assessmentyear                  0.000000\n",
       "landtaxvaluedollarcnt           0.000011\n",
       "taxamount                       0.000066\n",
       "censustractandblock             0.006702\n",
       "dtype: float64"
      ]
     },
     "execution_count": 270,
     "metadata": {},
     "output_type": "execute_result"
    }
   ],
   "source": [
    "Blanks = train_df.isnull().sum() / len(train_df)\n",
    "Blanks"
   ]
  },
  {
   "cell_type": "code",
   "execution_count": 271,
   "metadata": {
    "collapsed": false
   },
   "outputs": [
    {
     "name": "stdout",
     "output_type": "stream",
     "text": [
      "<class 'pandas.core.frame.DataFrame'>\n",
      "Int64Index: 90275 entries, 0 to 90274\n",
      "Data columns (total 35 columns):\n",
      "parcelid                        90275 non-null int64\n",
      "logerror                        90275 non-null float64\n",
      "transactiondate                 90275 non-null datetime64[ns]\n",
      "airconditioningtypeid           28781 non-null float64\n",
      "bathroomcnt                     90275 non-null float64\n",
      "bedroomcnt                      90275 non-null float64\n",
      "buildingqualitytypeid           57364 non-null float64\n",
      "calculatedbathnbr               89093 non-null float64\n",
      "calculatedfinishedsquarefeet    89614 non-null float64\n",
      "finishedsquarefeet12            85596 non-null float64\n",
      "fips                            90275 non-null float64\n",
      "fullbathcnt                     89093 non-null float64\n",
      "garagecarcnt                    29937 non-null float64\n",
      "garagetotalsqft                 29937 non-null float64\n",
      "heatingorsystemtypeid           56080 non-null float64\n",
      "latitude                        90275 non-null float64\n",
      "longitude                       90275 non-null float64\n",
      "lotsizesquarefeet               80125 non-null float64\n",
      "propertycountylandusecode       90274 non-null object\n",
      "propertylandusetypeid           90275 non-null float64\n",
      "propertyzoningdesc              58313 non-null object\n",
      "rawcensustractandblock          90275 non-null float64\n",
      "regionidcity                    88472 non-null float64\n",
      "regionidcounty                  90275 non-null float64\n",
      "regionidneighborhood            36012 non-null float64\n",
      "regionidzip                     90240 non-null float64\n",
      "roomcnt                         90275 non-null float64\n",
      "unitcnt                         58353 non-null float64\n",
      "yearbuilt                       89519 non-null float64\n",
      "structuretaxvaluedollarcnt      89895 non-null float64\n",
      "taxvaluedollarcnt               90274 non-null float64\n",
      "assessmentyear                  90275 non-null float64\n",
      "landtaxvaluedollarcnt           90274 non-null float64\n",
      "taxamount                       90269 non-null float64\n",
      "censustractandblock             89670 non-null float64\n",
      "dtypes: datetime64[ns](1), float64(31), int64(1), object(2)\n",
      "memory usage: 24.8+ MB\n"
     ]
    }
   ],
   "source": [
    "train_df.info()"
   ]
  },
  {
   "cell_type": "code",
   "execution_count": 272,
   "metadata": {
    "collapsed": false
   },
   "outputs": [],
   "source": [
    "#remove categorical variables\n",
    "train_df = train_df.drop(['propertyzoningdesc', 'propertycountylandusecode', 'transactiondate', 'parcelid'], axis = 1)"
   ]
  },
  {
   "cell_type": "code",
   "execution_count": 273,
   "metadata": {
    "collapsed": false
   },
   "outputs": [
    {
     "data": {
      "text/plain": [
       "['logerror',\n",
       " 'airconditioningtypeid',\n",
       " 'bathroomcnt',\n",
       " 'bedroomcnt',\n",
       " 'buildingqualitytypeid',\n",
       " 'calculatedbathnbr',\n",
       " 'calculatedfinishedsquarefeet',\n",
       " 'finishedsquarefeet12',\n",
       " 'fips',\n",
       " 'fullbathcnt',\n",
       " 'garagecarcnt',\n",
       " 'garagetotalsqft',\n",
       " 'heatingorsystemtypeid',\n",
       " 'latitude',\n",
       " 'longitude',\n",
       " 'lotsizesquarefeet',\n",
       " 'propertylandusetypeid',\n",
       " 'rawcensustractandblock',\n",
       " 'regionidcity',\n",
       " 'regionidcounty',\n",
       " 'regionidneighborhood',\n",
       " 'regionidzip',\n",
       " 'roomcnt',\n",
       " 'unitcnt',\n",
       " 'yearbuilt',\n",
       " 'structuretaxvaluedollarcnt',\n",
       " 'taxvaluedollarcnt',\n",
       " 'assessmentyear',\n",
       " 'landtaxvaluedollarcnt',\n",
       " 'taxamount',\n",
       " 'censustractandblock']"
      ]
     },
     "execution_count": 273,
     "metadata": {},
     "output_type": "execute_result"
    }
   ],
   "source": [
    "num_attribs = list(train_df)\n",
    "num_attribs"
   ]
  },
  {
   "cell_type": "code",
   "execution_count": 274,
   "metadata": {
    "collapsed": false
   },
   "outputs": [],
   "source": [
    "from sklearn.base import BaseEstimator, TransformerMixin\n",
    "\n",
    "# Create a class to select numerical or categorical columns \n",
    "# since Scikit-Learn doesn't handle DataFrames yet\n",
    "class DataFrameSelector(BaseEstimator, TransformerMixin):\n",
    "    def __init__(self, attribute_names):\n",
    "        self.attribute_names = attribute_names\n",
    "    def fit(self, X, y=None):\n",
    "        return self\n",
    "    def transform(self, X):\n",
    "        return X[self.attribute_names].values"
   ]
  },
  {
   "cell_type": "code",
   "execution_count": 275,
   "metadata": {
    "collapsed": true
   },
   "outputs": [],
   "source": [
    "train_df_labels = train_df['logerror'].values"
   ]
  },
  {
   "cell_type": "code",
   "execution_count": 276,
   "metadata": {
    "collapsed": true
   },
   "outputs": [],
   "source": [
    "train_df = train_df.drop(['logerror'], axis = 1)"
   ]
  },
  {
   "cell_type": "code",
   "execution_count": 277,
   "metadata": {
    "collapsed": false
   },
   "outputs": [],
   "source": [
    "from sklearn.pipeline import Pipeline\n",
    "from sklearn.preprocessing import StandardScaler\n",
    "from sklearn.preprocessing import Imputer\n",
    "\n",
    "num_attribs = list(train_df)\n",
    "\n",
    "num_pipeline = Pipeline([\n",
    "        ('selector', DataFrameSelector(num_attribs)),\n",
    "        ('imputer', Imputer(strategy=\"median\")),\n",
    "        ('std_scaler', StandardScaler()),\n",
    "    ])\n"
   ]
  },
  {
   "cell_type": "code",
   "execution_count": 278,
   "metadata": {
    "collapsed": false
   },
   "outputs": [],
   "source": [
    "train_df_prepared = num_pipeline.fit_transform(train_df)"
   ]
  },
  {
   "cell_type": "code",
   "execution_count": 279,
   "metadata": {
    "collapsed": false
   },
   "outputs": [
    {
     "data": {
      "text/plain": [
       "array([[-0.15115791, -0.27828682, -0.02755836, ..., -0.1021705 ,\n",
       "         0.10996366, -0.58606834],\n",
       "       [-0.15115791,  1.21534222,  0.83717255, ..., -0.09803808,\n",
       "         0.6096462 , -0.56117457],\n",
       "       [-0.15115791,  0.71746587, -0.89228927, ..., -0.55038018,\n",
       "         0.80434332, -0.56857702],\n",
       "       ..., \n",
       "       [-0.15115791, -0.27828682,  0.83717255, ..., -0.65481196,\n",
       "        -0.59342075, -0.57010013],\n",
       "       [-0.15115791, -0.27828682, -0.89228927, ..., -0.61288843,\n",
       "        -0.54079757, -0.56183814],\n",
       "       [-0.15115791, -1.27403951, -0.02755836, ..., -0.45333184,\n",
       "        -0.50052777, -0.56464926]])"
      ]
     },
     "execution_count": 279,
     "metadata": {},
     "output_type": "execute_result"
    }
   ],
   "source": [
    "train_df_prepared"
   ]
  },
  {
   "cell_type": "code",
   "execution_count": 280,
   "metadata": {
    "collapsed": false
   },
   "outputs": [
    {
     "data": {
      "text/plain": [
       "(90275L, 30L)"
      ]
     },
     "execution_count": 280,
     "metadata": {},
     "output_type": "execute_result"
    }
   ],
   "source": [
    "train_df_prepared.shape"
   ]
  },
  {
   "cell_type": "markdown",
   "metadata": {},
   "source": [
    "# Select and train a model"
   ]
  },
  {
   "cell_type": "code",
   "execution_count": 281,
   "metadata": {
    "collapsed": false
   },
   "outputs": [],
   "source": [
    "from sklearn.model_selection import train_test_split\n",
    "X_train, X_test, y_train, y_test = train_test_split(train_df_prepared, train_df_labels, test_size=0.3, random_state=42)"
   ]
  },
  {
   "cell_type": "code",
   "execution_count": 282,
   "metadata": {
    "collapsed": false
   },
   "outputs": [
    {
     "data": {
      "text/plain": [
       "LinearRegression(copy_X=True, fit_intercept=True, n_jobs=1, normalize=False)"
      ]
     },
     "execution_count": 282,
     "metadata": {},
     "output_type": "execute_result"
    }
   ],
   "source": [
    "from sklearn.linear_model import LinearRegression\n",
    "\n",
    "lin_reg = LinearRegression()\n",
    "lin_reg.fit(X_train, y_train)"
   ]
  },
  {
   "cell_type": "code",
   "execution_count": 283,
   "metadata": {
    "collapsed": false
   },
   "outputs": [
    {
     "data": {
      "text/plain": [
       "0.16019487565336918"
      ]
     },
     "execution_count": 283,
     "metadata": {},
     "output_type": "execute_result"
    }
   ],
   "source": [
    "from sklearn.metrics import mean_squared_error\n",
    "\n",
    "lin_train_predictions = lin_reg.predict(X_train)\n",
    "lin_mse = mean_squared_error(y_train, lin_train_predictions)\n",
    "lin_rmse = np.sqrt(lin_mse)\n",
    "lin_rmse"
   ]
  },
  {
   "cell_type": "code",
   "execution_count": 284,
   "metadata": {
    "collapsed": false
   },
   "outputs": [
    {
     "data": {
      "text/plain": [
       "0.068438486050928588"
      ]
     },
     "execution_count": 284,
     "metadata": {},
     "output_type": "execute_result"
    }
   ],
   "source": [
    "from sklearn.metrics import mean_absolute_error\n",
    "\n",
    "lin_mae = mean_absolute_error(y_train, lin_train_predictions)\n",
    "lin_mae"
   ]
  },
  {
   "cell_type": "code",
   "execution_count": 285,
   "metadata": {
    "collapsed": false
   },
   "outputs": [
    {
     "data": {
      "text/plain": [
       "0.068689047645567214"
      ]
     },
     "execution_count": 285,
     "metadata": {},
     "output_type": "execute_result"
    }
   ],
   "source": [
    "from sklearn.metrics import mean_absolute_error\n",
    "\n",
    "lin_test_predictions = lin_reg.predict(X_test)\n",
    "lin_mae_test = mean_absolute_error(y_test, lin_test_predictions)\n",
    "lin_mae_test"
   ]
  },
  {
   "cell_type": "code",
   "execution_count": 286,
   "metadata": {
    "collapsed": false
   },
   "outputs": [
    {
     "data": {
      "text/plain": [
       "DecisionTreeRegressor(criterion='mse', max_depth=None, max_features=None,\n",
       "           max_leaf_nodes=None, min_impurity_split=1e-07,\n",
       "           min_samples_leaf=1, min_samples_split=2,\n",
       "           min_weight_fraction_leaf=0.0, presort=False, random_state=42,\n",
       "           splitter='best')"
      ]
     },
     "execution_count": 286,
     "metadata": {},
     "output_type": "execute_result"
    }
   ],
   "source": [
    "from sklearn.tree import DecisionTreeRegressor\n",
    "\n",
    "tree_reg = DecisionTreeRegressor(random_state=42)\n",
    "tree_reg.fit(X_train, y_train)"
   ]
  },
  {
   "cell_type": "code",
   "execution_count": 295,
   "metadata": {
    "collapsed": false
   },
   "outputs": [
    {
     "data": {
      "text/plain": [
       "0.00012411893609197064"
      ]
     },
     "execution_count": 295,
     "metadata": {},
     "output_type": "execute_result"
    }
   ],
   "source": [
    "DT_predictions = tree_reg.predict(X_train)\n",
    "DT_mae_train = mean_absolute_error(y_train, DT_predictions)\n",
    "DT_mae_train"
   ]
  },
  {
   "cell_type": "code",
   "execution_count": 296,
   "metadata": {
    "collapsed": false
   },
   "outputs": [
    {
     "data": {
      "text/plain": [
       "0.11300482713633399"
      ]
     },
     "execution_count": 296,
     "metadata": {},
     "output_type": "execute_result"
    }
   ],
   "source": [
    "DT_test_predictions = tree_reg.predict(X_test)\n",
    "DT_mae_test = mean_absolute_error(y_test, DT_test_predictions)\n",
    "DT_mae_test"
   ]
  },
  {
   "cell_type": "code",
   "execution_count": 291,
   "metadata": {
    "collapsed": false
   },
   "outputs": [
    {
     "data": {
      "text/plain": [
       "RandomForestRegressor(bootstrap=True, criterion='mse', max_depth=None,\n",
       "           max_features='auto', max_leaf_nodes=None,\n",
       "           min_impurity_split=1e-07, min_samples_leaf=1,\n",
       "           min_samples_split=2, min_weight_fraction_leaf=0.0,\n",
       "           n_estimators=10, n_jobs=1, oob_score=False, random_state=42,\n",
       "           verbose=0, warm_start=False)"
      ]
     },
     "execution_count": 291,
     "metadata": {},
     "output_type": "execute_result"
    }
   ],
   "source": [
    "from sklearn.ensemble import RandomForestRegressor\n",
    "\n",
    "forest_reg = RandomForestRegressor(random_state=42)\n",
    "forest_reg.fit(X_train, y_train)"
   ]
  },
  {
   "cell_type": "code",
   "execution_count": 297,
   "metadata": {
    "collapsed": false
   },
   "outputs": [
    {
     "data": {
      "text/plain": [
       "0.033704862229670153"
      ]
     },
     "execution_count": 297,
     "metadata": {},
     "output_type": "execute_result"
    }
   ],
   "source": [
    "from sklearn.metrics import mean_absolute_error\n",
    "\n",
    "RF_predictions = forest_reg.predict(X_train)\n",
    "RF_mae_train = mean_absolute_error(y_train, RF_predictions)\n",
    "RF_mae_train"
   ]
  },
  {
   "cell_type": "code",
   "execution_count": 298,
   "metadata": {
    "collapsed": false
   },
   "outputs": [
    {
     "data": {
      "text/plain": [
       "0.083238626479372191"
      ]
     },
     "execution_count": 298,
     "metadata": {},
     "output_type": "execute_result"
    }
   ],
   "source": [
    "RF_test_predictions = forest_reg.predict(X_test)\n",
    "RF_mae_test = mean_absolute_error(y_test, RF_test_predictions)\n",
    "RF_mae_test"
   ]
  },
  {
   "cell_type": "code",
   "execution_count": 316,
   "metadata": {
    "collapsed": false
   },
   "outputs": [],
   "source": [
    "# Include same features for training and test set\n",
    "test_df = test_df.drop(['propertyzoningdesc', 'propertycountylandusecode', 'parcelid',\n",
    "                        'taxdelinquencyyear', 'taxdelinquencyflag', 'fireplaceflag', 'yardbuildingsqft26', \n",
    "                       'yardbuildingsqft17', 'typeconstructiontypeid', 'storytypeid', 'poolsizesum', \n",
    "                       'pooltypeid10', 'pooltypeid2', 'hashottuborspa',\n",
    "                       'finishedsquarefeet13', 'finishedsquarefeet15', 'finishedsquarefeet50', 'finishedsquarefeet6',\n",
    "                       'decktypeid', 'finishedfloor1squarefeet', 'buildingclasstypeid', \n",
    "                       'architecturalstyletypeid', 'basementsqft', 'architecturalstyletypeid',\n",
    "                       'threequarterbathnbr', 'fireplacecnt', 'poolcnt', 'pooltypeid7', 'numberofstories', '201610',\n",
    "                        '201611','201612', '201710', '201711', '201712'], axis = 1)"
   ]
  },
  {
   "cell_type": "code",
   "execution_count": 318,
   "metadata": {
    "collapsed": false
   },
   "outputs": [
    {
     "data": {
      "text/plain": [
       "(2985217, 30)"
      ]
     },
     "execution_count": 318,
     "metadata": {},
     "output_type": "execute_result"
    }
   ],
   "source": [
    "test_df.shape"
   ]
  },
  {
   "cell_type": "code",
   "execution_count": 320,
   "metadata": {
    "collapsed": true
   },
   "outputs": [],
   "source": [
    "# prepare test data for machine learning\n",
    "num_attribs_test = list(test_df)\n",
    "\n",
    "num_pipeline_test = Pipeline([\n",
    "        ('selector', DataFrameSelector(num_attribs)),\n",
    "        ('imputer', Imputer(strategy=\"median\")),\n",
    "        ('std_scaler', StandardScaler()),\n",
    "    ])\n"
   ]
  },
  {
   "cell_type": "code",
   "execution_count": 321,
   "metadata": {
    "collapsed": true
   },
   "outputs": [],
   "source": [
    "test_df_prepared = num_pipeline.fit_transform(test_df)"
   ]
  },
  {
   "cell_type": "code",
   "execution_count": 322,
   "metadata": {
    "collapsed": false
   },
   "outputs": [
    {
     "data": {
      "text/plain": [
       "(2985217L, 30L)"
      ]
     },
     "execution_count": 322,
     "metadata": {},
     "output_type": "execute_result"
    }
   ],
   "source": [
    "test_df_prepared.shape"
   ]
  },
  {
   "cell_type": "code",
   "execution_count": 323,
   "metadata": {
    "collapsed": false
   },
   "outputs": [],
   "source": [
    "RF_final_predictions = forest_reg.predict(test_df_prepared)"
   ]
  },
  {
   "cell_type": "code",
   "execution_count": 325,
   "metadata": {
    "collapsed": false
   },
   "outputs": [],
   "source": [
    "submission_file = pd.read_csv('sample_submission.csv') \n",
    "for column in submission_file.columns[submission_file.columns != 'ParcelId']:\n",
    "    submission_file[column] = RF_final_predictions"
   ]
  },
  {
   "cell_type": "code",
   "execution_count": 326,
   "metadata": {
    "collapsed": true
   },
   "outputs": [],
   "source": [
    "submission_file.to_csv('RF_final_predictions.csv', index=False, float_format='%.4f')"
   ]
  }
 ],
 "metadata": {
  "anaconda-cloud": {},
  "kernelspec": {
   "display_name": "Python [conda env:DAND]",
   "language": "python",
   "name": "conda-env-DAND-py"
  },
  "language_info": {
   "codemirror_mode": {
    "name": "ipython",
    "version": 2
   },
   "file_extension": ".py",
   "mimetype": "text/x-python",
   "name": "python",
   "nbconvert_exporter": "python",
   "pygments_lexer": "ipython2",
   "version": "2.7.12"
  }
 },
 "nbformat": 4,
 "nbformat_minor": 2
}
