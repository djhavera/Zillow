{
 "cells": [
  {
   "cell_type": "code",
   "execution_count": 1,
   "metadata": {
    "collapsed": true
   },
   "outputs": [],
   "source": [
    "# To support both python 2 and python 3\n",
    "from __future__ import division, print_function, unicode_literals\n",
    "\n",
    "# Common imports\n",
    "import numpy as np\n",
    "import os\n",
    "import pandas as pd\n",
    "\n",
    "# to make this notebook's output stable across runs\n",
    "np.random.seed(42)\n",
    "\n",
    "# To plot pretty figures\n",
    "%matplotlib inline\n",
    "import matplotlib\n",
    "import matplotlib.pyplot as plt\n",
    "plt.rcParams['axes.labelsize'] = 14\n",
    "plt.rcParams['xtick.labelsize'] = 12\n",
    "plt.rcParams['ytick.labelsize'] = 12"
   ]
  },
  {
   "cell_type": "code",
   "execution_count": 2,
   "metadata": {
    "collapsed": false
   },
   "outputs": [],
   "source": [
    "train_df = pd.read_csv(\"train_2016_v2.csv\", parse_dates=[\"transactiondate\"])"
   ]
  },
  {
   "cell_type": "code",
   "execution_count": 3,
   "metadata": {
    "collapsed": false
   },
   "outputs": [
    {
     "name": "stdout",
     "output_type": "stream",
     "text": [
      "<class 'pandas.core.frame.DataFrame'>\n",
      "RangeIndex: 90275 entries, 0 to 90274\n",
      "Data columns (total 3 columns):\n",
      "parcelid           90275 non-null int64\n",
      "logerror           90275 non-null float64\n",
      "transactiondate    90275 non-null datetime64[ns]\n",
      "dtypes: datetime64[ns](1), float64(1), int64(1)\n",
      "memory usage: 2.1 MB\n"
     ]
    }
   ],
   "source": [
    "train_df.info()"
   ]
  },
  {
   "cell_type": "code",
   "execution_count": 4,
   "metadata": {
    "collapsed": false
   },
   "outputs": [],
   "source": [
    "test_df = pd.read_csv(\"sample_submission.csv\")"
   ]
  },
  {
   "cell_type": "code",
   "execution_count": 5,
   "metadata": {
    "collapsed": false
   },
   "outputs": [],
   "source": [
    "test_df = test_df.rename(index=str, columns={\"ParcelId\": \"parcelid\"})"
   ]
  },
  {
   "cell_type": "code",
   "execution_count": 6,
   "metadata": {
    "collapsed": false
   },
   "outputs": [
    {
     "name": "stderr",
     "output_type": "stream",
     "text": [
      "C:\\Users\\203014767\\.conda\\envs\\DAND\\lib\\site-packages\\IPython\\core\\interactiveshell.py:2717: DtypeWarning: Columns (22,32,34,49,55) have mixed types. Specify dtype option on import or set low_memory=False.\n",
      "  interactivity=interactivity, compiler=compiler, result=result)\n"
     ]
    }
   ],
   "source": [
    "properties_2016_df = pd.read_csv(\"properties_2016.csv\")"
   ]
  },
  {
   "cell_type": "code",
   "execution_count": 7,
   "metadata": {
    "collapsed": false
   },
   "outputs": [],
   "source": [
    "train_df = pd.merge(train_df, properties_2016_df, on='parcelid', how='left')"
   ]
  },
  {
   "cell_type": "code",
   "execution_count": 8,
   "metadata": {
    "collapsed": false
   },
   "outputs": [],
   "source": [
    "test_df = pd.merge(test_df, properties_2016_df, on='parcelid', how='left')"
   ]
  },
  {
   "cell_type": "code",
   "execution_count": 9,
   "metadata": {
    "collapsed": false
   },
   "outputs": [
    {
     "name": "stdout",
     "output_type": "stream",
     "text": [
      "<class 'pandas.core.frame.DataFrame'>\n",
      "Int64Index: 2985217 entries, 0 to 2985216\n",
      "Data columns (total 64 columns):\n",
      "parcelid                        int64\n",
      "201610                          int64\n",
      "201611                          int64\n",
      "201612                          int64\n",
      "201710                          int64\n",
      "201711                          int64\n",
      "201712                          int64\n",
      "airconditioningtypeid           float64\n",
      "architecturalstyletypeid        float64\n",
      "basementsqft                    float64\n",
      "bathroomcnt                     float64\n",
      "bedroomcnt                      float64\n",
      "buildingclasstypeid             float64\n",
      "buildingqualitytypeid           float64\n",
      "calculatedbathnbr               float64\n",
      "decktypeid                      float64\n",
      "finishedfloor1squarefeet        float64\n",
      "calculatedfinishedsquarefeet    float64\n",
      "finishedsquarefeet12            float64\n",
      "finishedsquarefeet13            float64\n",
      "finishedsquarefeet15            float64\n",
      "finishedsquarefeet50            float64\n",
      "finishedsquarefeet6             float64\n",
      "fips                            float64\n",
      "fireplacecnt                    float64\n",
      "fullbathcnt                     float64\n",
      "garagecarcnt                    float64\n",
      "garagetotalsqft                 float64\n",
      "hashottuborspa                  object\n",
      "heatingorsystemtypeid           float64\n",
      "latitude                        float64\n",
      "longitude                       float64\n",
      "lotsizesquarefeet               float64\n",
      "poolcnt                         float64\n",
      "poolsizesum                     float64\n",
      "pooltypeid10                    float64\n",
      "pooltypeid2                     float64\n",
      "pooltypeid7                     float64\n",
      "propertycountylandusecode       object\n",
      "propertylandusetypeid           float64\n",
      "propertyzoningdesc              object\n",
      "rawcensustractandblock          float64\n",
      "regionidcity                    float64\n",
      "regionidcounty                  float64\n",
      "regionidneighborhood            float64\n",
      "regionidzip                     float64\n",
      "roomcnt                         float64\n",
      "storytypeid                     float64\n",
      "threequarterbathnbr             float64\n",
      "typeconstructiontypeid          float64\n",
      "unitcnt                         float64\n",
      "yardbuildingsqft17              float64\n",
      "yardbuildingsqft26              float64\n",
      "yearbuilt                       float64\n",
      "numberofstories                 float64\n",
      "fireplaceflag                   object\n",
      "structuretaxvaluedollarcnt      float64\n",
      "taxvaluedollarcnt               float64\n",
      "assessmentyear                  float64\n",
      "landtaxvaluedollarcnt           float64\n",
      "taxamount                       float64\n",
      "taxdelinquencyflag              object\n",
      "taxdelinquencyyear              float64\n",
      "censustractandblock             float64\n",
      "dtypes: float64(52), int64(7), object(5)\n",
      "memory usage: 1.4+ GB\n"
     ]
    }
   ],
   "source": [
    "test_df.info()"
   ]
  },
  {
   "cell_type": "code",
   "execution_count": 10,
   "metadata": {
    "collapsed": true
   },
   "outputs": [],
   "source": [
    "# to make this notebook's output identical at every run\n",
    "np.random.seed(42)"
   ]
  },
  {
   "cell_type": "markdown",
   "metadata": {},
   "source": [
    "### Prepare the data for Machine Learning algorithms"
   ]
  },
  {
   "cell_type": "code",
   "execution_count": 11,
   "metadata": {
    "collapsed": false
   },
   "outputs": [],
   "source": [
    "#remove categorical variables\n",
    "train_df = train_df.drop(['propertyzoningdesc', 'propertycountylandusecode', 'transactiondate', 'parcelid'], axis = 1)"
   ]
  },
  {
   "cell_type": "code",
   "execution_count": 12,
   "metadata": {
    "collapsed": true
   },
   "outputs": [],
   "source": [
    "train_df = train_df.drop(['taxdelinquencyflag', 'fireplaceflag'], axis = 1)"
   ]
  },
  {
   "cell_type": "code",
   "execution_count": 13,
   "metadata": {
    "collapsed": false
   },
   "outputs": [],
   "source": [
    "test_df = test_df.drop(['propertyzoningdesc', 'propertycountylandusecode', \n",
    "                        'parcelid','taxdelinquencyflag', 'fireplaceflag'], axis = 1)"
   ]
  },
  {
   "cell_type": "code",
   "execution_count": 14,
   "metadata": {
    "collapsed": false
   },
   "outputs": [
    {
     "data": {
      "text/plain": [
       "['logerror',\n",
       " 'airconditioningtypeid',\n",
       " 'architecturalstyletypeid',\n",
       " 'basementsqft',\n",
       " 'bathroomcnt',\n",
       " 'bedroomcnt',\n",
       " 'buildingclasstypeid',\n",
       " 'buildingqualitytypeid',\n",
       " 'calculatedbathnbr',\n",
       " 'decktypeid',\n",
       " 'finishedfloor1squarefeet',\n",
       " 'calculatedfinishedsquarefeet',\n",
       " 'finishedsquarefeet12',\n",
       " 'finishedsquarefeet13',\n",
       " 'finishedsquarefeet15',\n",
       " 'finishedsquarefeet50',\n",
       " 'finishedsquarefeet6',\n",
       " 'fips',\n",
       " 'fireplacecnt',\n",
       " 'fullbathcnt',\n",
       " 'garagecarcnt',\n",
       " 'garagetotalsqft',\n",
       " 'hashottuborspa',\n",
       " 'heatingorsystemtypeid',\n",
       " 'latitude',\n",
       " 'longitude',\n",
       " 'lotsizesquarefeet',\n",
       " 'poolcnt',\n",
       " 'poolsizesum',\n",
       " 'pooltypeid10',\n",
       " 'pooltypeid2',\n",
       " 'pooltypeid7',\n",
       " 'propertylandusetypeid',\n",
       " 'rawcensustractandblock',\n",
       " 'regionidcity',\n",
       " 'regionidcounty',\n",
       " 'regionidneighborhood',\n",
       " 'regionidzip',\n",
       " 'roomcnt',\n",
       " 'storytypeid',\n",
       " 'threequarterbathnbr',\n",
       " 'typeconstructiontypeid',\n",
       " 'unitcnt',\n",
       " 'yardbuildingsqft17',\n",
       " 'yardbuildingsqft26',\n",
       " 'yearbuilt',\n",
       " 'numberofstories',\n",
       " 'structuretaxvaluedollarcnt',\n",
       " 'taxvaluedollarcnt',\n",
       " 'assessmentyear',\n",
       " 'landtaxvaluedollarcnt',\n",
       " 'taxamount',\n",
       " 'taxdelinquencyyear',\n",
       " 'censustractandblock']"
      ]
     },
     "execution_count": 14,
     "metadata": {},
     "output_type": "execute_result"
    }
   ],
   "source": [
    "num_attribs = list(train_df)\n",
    "num_attribs"
   ]
  },
  {
   "cell_type": "code",
   "execution_count": 15,
   "metadata": {
    "collapsed": false
   },
   "outputs": [],
   "source": [
    "from sklearn.base import BaseEstimator, TransformerMixin\n",
    "\n",
    "# Create a class to select numerical or categorical columns \n",
    "# since Scikit-Learn doesn't handle DataFrames yet\n",
    "class DataFrameSelector(BaseEstimator, TransformerMixin):\n",
    "    def __init__(self, attribute_names):\n",
    "        self.attribute_names = attribute_names\n",
    "    def fit(self, X, y=None):\n",
    "        return self\n",
    "    def transform(self, X):\n",
    "        return X[self.attribute_names].values"
   ]
  },
  {
   "cell_type": "code",
   "execution_count": 16,
   "metadata": {
    "collapsed": true
   },
   "outputs": [],
   "source": [
    "train_df_labels = train_df['logerror'].values"
   ]
  },
  {
   "cell_type": "code",
   "execution_count": 17,
   "metadata": {
    "collapsed": true
   },
   "outputs": [],
   "source": [
    "train_df = train_df.drop(['logerror'], axis = 1)"
   ]
  },
  {
   "cell_type": "code",
   "execution_count": 29,
   "metadata": {
    "collapsed": false
   },
   "outputs": [
    {
     "data": {
      "text/plain": [
       "array([ 0.0276, -0.1684, -0.004 , ..., -0.2679,  0.0602,  0.4207])"
      ]
     },
     "execution_count": 29,
     "metadata": {},
     "output_type": "execute_result"
    }
   ],
   "source": [
    "train_df_labels"
   ]
  },
  {
   "cell_type": "code",
   "execution_count": 18,
   "metadata": {
    "collapsed": false
   },
   "outputs": [
    {
     "name": "stderr",
     "output_type": "stream",
     "text": [
      "C:\\Users\\203014767\\.conda\\envs\\DAND\\lib\\site-packages\\sklearn\\cross_validation.py:44: DeprecationWarning: This module was deprecated in version 0.18 in favor of the model_selection module into which all the refactored classes and functions are moved. Also note that the interface of the new CV iterators are different from that of this module. This module will be removed in 0.20.\n",
      "  \"This module will be removed in 0.20.\", DeprecationWarning)\n"
     ]
    }
   ],
   "source": [
    "from sklearn.cross_validation import train_test_split\n",
    "\n",
    "X_train, X_test, y_train, y_test = train_test_split = \\\n",
    "    train_test_split(train_df, train_df_labels, test_size=0.3, random_state=42)"
   ]
  },
  {
   "cell_type": "code",
   "execution_count": 19,
   "metadata": {
    "collapsed": false
   },
   "outputs": [],
   "source": [
    "from sklearn.pipeline import Pipeline\n",
    "from sklearn.preprocessing import StandardScaler\n",
    "from sklearn.preprocessing import Imputer\n",
    "from sklearn.decomposition import PCA\n",
    "from sklearn.feature_selection import SelectKBest\n",
    "from sklearn.feature_selection import chi2\n",
    "from sklearn.metrics import classification_report, f1_score, accuracy_score, precision_score, confusion_matrix, recall_score\n",
    "from sklearn.ensemble import RandomForestRegressor\n",
    "\n",
    "num_attribs = list(train_df)\n",
    "\n",
    "num_pipeline = Pipeline([\n",
    "        ('selector', DataFrameSelector(num_attribs)),\n",
    "        ('imputer', Imputer(strategy=\"median\")),\n",
    "        ('std_scaler', StandardScaler()),        \n",
    "        ('KBest', SelectKBest(k = 10)),\n",
    "        ('pca', PCA(n_components = 5)),\n",
    "        ('reg', RandomForestRegressor(random_state=42))\n",
    "         ])\n",
    "        "
   ]
  },
  {
   "cell_type": "code",
   "execution_count": 20,
   "metadata": {
    "collapsed": true
   },
   "outputs": [],
   "source": [
    "param_grid = dict(KBest__k = range(1,35),\n",
    "                  pca__n_components=range(1, 20),\n",
    "                  reg__min_samples_split = range(1,100))"
   ]
  },
  {
   "cell_type": "markdown",
   "metadata": {},
   "source": [
    "from sklearn.model_selection import GridSearchCV, StratifiedShuffleSplit\n",
    "sss = StratifiedShuffleSplit(100, test_size=0.5, random_state=42)\n",
    "\n",
    "grid_search = GridSearchCV(num_pipeline, param_grid=param_grid, scoring='neg_mean_squared_error', cv = sss)"
   ]
  },
  {
   "cell_type": "code",
   "execution_count": 30,
   "metadata": {
    "collapsed": false
   },
   "outputs": [],
   "source": [
    "from scipy.stats import randint\n",
    "from sklearn.model_selection import GridSearchCV, StratifiedShuffleSplit\n",
    "sss = StratifiedShuffleSplit(100, test_size=0.5, random_state=42)\n",
    "param_distribs = {\n",
    "    'KBest__k' : randint(low=1, high=53),\n",
    "    'pca__n_components' : randint(low=1, high=30),\n",
    "    'reg__min_samples_split': randint(low=1, high=100)\n",
    "    }"
   ]
  },
  {
   "cell_type": "code",
   "execution_count": 33,
   "metadata": {
    "collapsed": false
   },
   "outputs": [],
   "source": [
    "from sklearn.model_selection import RandomizedSearchCV\n",
    "#Try from sklearn.cross_validation import StratifiedKFold... keeps balancing constant\n",
    "\n",
    "rnd_search = RandomizedSearchCV(num_pipeline, param_distributions=param_distribs,\n",
    "                                n_iter=5, cv=5, scoring='neg_mean_squared_error', random_state=42)"
   ]
  },
  {
   "cell_type": "code",
   "execution_count": 34,
   "metadata": {
    "collapsed": false
   },
   "outputs": [
    {
     "name": "stderr",
     "output_type": "stream",
     "text": [
      "C:\\Users\\203014767\\.conda\\envs\\DAND\\lib\\site-packages\\sklearn\\feature_selection\\univariate_selection.py:113: UserWarning: Features [ 5  8 21 26 28 29 30 38 48] are constant.\n",
      "  UserWarning)\n",
      "C:\\Users\\203014767\\.conda\\envs\\DAND\\lib\\site-packages\\sklearn\\feature_selection\\univariate_selection.py:114: RuntimeWarning: invalid value encountered in divide\n",
      "  f = msb / msw\n"
     ]
    }
   ],
   "source": [
    "rnd_search_fit = rnd_search.fit(X_train, y_train)"
   ]
  },
  {
   "cell_type": "code",
   "execution_count": 35,
   "metadata": {
    "collapsed": false
   },
   "outputs": [
    {
     "data": {
      "text/plain": [
       "{u'KBest__k': 21, u'pca__n_components': 7, u'reg__min_samples_split': 83}"
      ]
     },
     "execution_count": 35,
     "metadata": {},
     "output_type": "execute_result"
    }
   ],
   "source": [
    "rnd_search.best_params_"
   ]
  },
  {
   "cell_type": "code",
   "execution_count": 36,
   "metadata": {
    "collapsed": false
   },
   "outputs": [],
   "source": [
    "best_parameters = rnd_search.best_params_"
   ]
  },
  {
   "cell_type": "code",
   "execution_count": 37,
   "metadata": {
    "collapsed": false
   },
   "outputs": [
    {
     "data": {
      "text/plain": [
       "Pipeline(steps=[(u'selector', DataFrameSelector(attribute_names=['airconditioningtypeid', 'architecturalstyletypeid', 'basementsqft', 'bathroomcnt', 'bedroomcnt', 'buildingclasstypeid', 'buildingqualitytypeid', 'calculatedbathnbr', 'decktypeid', 'finishedfloor1squarefeet', 'calculatedfinishedsquarefeet', 'fi...estimators=10, n_jobs=1, oob_score=False, random_state=42,\n",
       "           verbose=0, warm_start=False))])"
      ]
     },
     "execution_count": 37,
     "metadata": {},
     "output_type": "execute_result"
    }
   ],
   "source": [
    "rnd_search.best_estimator_"
   ]
  },
  {
   "cell_type": "code",
   "execution_count": 38,
   "metadata": {
    "collapsed": true
   },
   "outputs": [],
   "source": [
    "final_model = rnd_search.best_estimator_"
   ]
  },
  {
   "cell_type": "code",
   "execution_count": 39,
   "metadata": {
    "collapsed": false
   },
   "outputs": [
    {
     "name": "stdout",
     "output_type": "stream",
     "text": [
      "0.163406453547 {u'KBest__k': 39, u'pca__n_components': 20, u'reg__min_samples_split': 93}\n",
      "0.163378292733 {u'KBest__k': 15, u'pca__n_components': 11, u'reg__min_samples_split': 72}\n",
      "0.162737089699 {u'KBest__k': 21, u'pca__n_components': 7, u'reg__min_samples_split': 83}\n",
      "0.163112535743 {u'KBest__k': 23, u'pca__n_components': 11, u'reg__min_samples_split': 75}\n",
      "0.166514939282 {u'KBest__k': 24, u'pca__n_components': 21, u'reg__min_samples_split': 24}\n"
     ]
    }
   ],
   "source": [
    "cvres = rnd_search.cv_results_\n",
    "for mean_score, params in zip(cvres[\"mean_test_score\"], cvres[\"params\"]):\n",
    "    print(np.sqrt(-mean_score), params)"
   ]
  },
  {
   "cell_type": "code",
   "execution_count": 43,
   "metadata": {
    "collapsed": false
   },
   "outputs": [
    {
     "data": {
      "text/plain": [
       "[u'final_model_zillow5.pkl']"
      ]
     },
     "execution_count": 43,
     "metadata": {},
     "output_type": "execute_result"
    }
   ],
   "source": [
    "from sklearn.externals import joblib\n",
    "\n",
    "joblib.dump(final_model, \"final_model_zillow5.pkl\")"
   ]
  },
  {
   "cell_type": "code",
   "execution_count": 44,
   "metadata": {
    "collapsed": false
   },
   "outputs": [
    {
     "data": {
      "text/plain": [
       "[u'best_param_zillow5.pkl']"
      ]
     },
     "execution_count": 44,
     "metadata": {},
     "output_type": "execute_result"
    }
   ],
   "source": [
    "joblib.dump(best_parameters, \"best_param_zillow5.pkl\")"
   ]
  },
  {
   "cell_type": "code",
   "execution_count": null,
   "metadata": {
    "collapsed": false
   },
   "outputs": [],
   "source": [
    "RF_rand_final_predictions = final_model.predict(test_df)"
   ]
  },
  {
   "cell_type": "code",
   "execution_count": 153,
   "metadata": {
    "collapsed": false
   },
   "outputs": [],
   "source": [
    "submission_file = pd.read_csv('sample_submission.csv') \n",
    "for column in submission_file.columns[submission_file.columns != 'ParcelId']:\n",
    "    submission_file[column] = RF_rand_final_predictions"
   ]
  },
  {
   "cell_type": "code",
   "execution_count": 154,
   "metadata": {
    "collapsed": false
   },
   "outputs": [],
   "source": [
    "submission_file.to_csv('RF_final_predictions.csv', index=False, float_format='%.4f')"
   ]
  }
 ],
 "metadata": {
  "anaconda-cloud": {},
  "kernelspec": {
   "display_name": "Python [conda env:DAND]",
   "language": "python",
   "name": "conda-env-DAND-py"
  },
  "language_info": {
   "codemirror_mode": {
    "name": "ipython",
    "version": 2
   },
   "file_extension": ".py",
   "mimetype": "text/x-python",
   "name": "python",
   "nbconvert_exporter": "python",
   "pygments_lexer": "ipython2",
   "version": "2.7.12"
  }
 },
 "nbformat": 4,
 "nbformat_minor": 2
}
