{
 "cells": [
  {
   "cell_type": "markdown",
   "metadata": {},
   "source": [
    "This is my first kernel.  I am following chapter 2 of Hands-On Machine Learning with Scikit-Learn and Tensorflow by Aurélien Géron for a common approach to implementing machine learning programs.  This book is a wonderful resource for those getting started in machine learning and an excellent resource for more advanced engineers."
   ]
  },
  {
   "cell_type": "code",
   "execution_count": 1,
   "metadata": {
    "collapsed": true
   },
   "outputs": [],
   "source": [
    "# To support both python 2 and python 3\n",
    "from __future__ import division, print_function, unicode_literals\n",
    "\n",
    "# Common imports\n",
    "import numpy as np\n",
    "import os\n",
    "import pandas as pd\n",
    "\n",
    "# to make this notebook's output stable across runs\n",
    "np.random.seed(42)\n",
    "\n",
    "# To plot pretty figures\n",
    "%matplotlib inline\n",
    "import matplotlib\n",
    "import matplotlib.pyplot as plt\n",
    "plt.rcParams['axes.labelsize'] = 14\n",
    "plt.rcParams['xtick.labelsize'] = 12\n",
    "plt.rcParams['ytick.labelsize'] = 12"
   ]
  },
  {
   "cell_type": "code",
   "execution_count": 2,
   "metadata": {
    "collapsed": false
   },
   "outputs": [],
   "source": [
    "train_df = pd.read_csv(\"train_2016_v2.csv\", parse_dates=[\"transactiondate\"])"
   ]
  },
  {
   "cell_type": "code",
   "execution_count": 3,
   "metadata": {
    "collapsed": false
   },
   "outputs": [
    {
     "name": "stdout",
     "output_type": "stream",
     "text": [
      "<class 'pandas.core.frame.DataFrame'>\n",
      "RangeIndex: 90275 entries, 0 to 90274\n",
      "Data columns (total 3 columns):\n",
      "parcelid           90275 non-null int64\n",
      "logerror           90275 non-null float64\n",
      "transactiondate    90275 non-null datetime64[ns]\n",
      "dtypes: datetime64[ns](1), float64(1), int64(1)\n",
      "memory usage: 2.1 MB\n"
     ]
    }
   ],
   "source": [
    "train_df.info()"
   ]
  },
  {
   "cell_type": "code",
   "execution_count": 4,
   "metadata": {
    "collapsed": false
   },
   "outputs": [],
   "source": [
    "test_df = pd.read_csv(\"sample_submission.csv\")"
   ]
  },
  {
   "cell_type": "code",
   "execution_count": 5,
   "metadata": {
    "collapsed": false
   },
   "outputs": [],
   "source": [
    "test_df = test_df.rename(index=str, columns={\"ParcelId\": \"parcelid\"})"
   ]
  },
  {
   "cell_type": "code",
   "execution_count": 6,
   "metadata": {
    "collapsed": false
   },
   "outputs": [
    {
     "name": "stderr",
     "output_type": "stream",
     "text": [
      "C:\\Users\\203014767\\.conda\\envs\\DAND\\lib\\site-packages\\IPython\\core\\interactiveshell.py:2717: DtypeWarning: Columns (22,32,34,49,55) have mixed types. Specify dtype option on import or set low_memory=False.\n",
      "  interactivity=interactivity, compiler=compiler, result=result)\n"
     ]
    }
   ],
   "source": [
    "properties_2016_df = pd.read_csv(\"properties_2016.csv\")"
   ]
  },
  {
   "cell_type": "code",
   "execution_count": 7,
   "metadata": {
    "collapsed": false
   },
   "outputs": [],
   "source": [
    "train_df = pd.merge(train_df, properties_2016_df, on='parcelid', how='left')"
   ]
  },
  {
   "cell_type": "code",
   "execution_count": 8,
   "metadata": {
    "collapsed": false
   },
   "outputs": [],
   "source": [
    "test_df = pd.merge(test_df, properties_2016_df, on='parcelid', how='left')"
   ]
  },
  {
   "cell_type": "code",
   "execution_count": 9,
   "metadata": {
    "collapsed": false
   },
   "outputs": [
    {
     "name": "stdout",
     "output_type": "stream",
     "text": [
      "<class 'pandas.core.frame.DataFrame'>\n",
      "Int64Index: 2985217 entries, 0 to 2985216\n",
      "Data columns (total 64 columns):\n",
      "parcelid                        int64\n",
      "201610                          int64\n",
      "201611                          int64\n",
      "201612                          int64\n",
      "201710                          int64\n",
      "201711                          int64\n",
      "201712                          int64\n",
      "airconditioningtypeid           float64\n",
      "architecturalstyletypeid        float64\n",
      "basementsqft                    float64\n",
      "bathroomcnt                     float64\n",
      "bedroomcnt                      float64\n",
      "buildingclasstypeid             float64\n",
      "buildingqualitytypeid           float64\n",
      "calculatedbathnbr               float64\n",
      "decktypeid                      float64\n",
      "finishedfloor1squarefeet        float64\n",
      "calculatedfinishedsquarefeet    float64\n",
      "finishedsquarefeet12            float64\n",
      "finishedsquarefeet13            float64\n",
      "finishedsquarefeet15            float64\n",
      "finishedsquarefeet50            float64\n",
      "finishedsquarefeet6             float64\n",
      "fips                            float64\n",
      "fireplacecnt                    float64\n",
      "fullbathcnt                     float64\n",
      "garagecarcnt                    float64\n",
      "garagetotalsqft                 float64\n",
      "hashottuborspa                  object\n",
      "heatingorsystemtypeid           float64\n",
      "latitude                        float64\n",
      "longitude                       float64\n",
      "lotsizesquarefeet               float64\n",
      "poolcnt                         float64\n",
      "poolsizesum                     float64\n",
      "pooltypeid10                    float64\n",
      "pooltypeid2                     float64\n",
      "pooltypeid7                     float64\n",
      "propertycountylandusecode       object\n",
      "propertylandusetypeid           float64\n",
      "propertyzoningdesc              object\n",
      "rawcensustractandblock          float64\n",
      "regionidcity                    float64\n",
      "regionidcounty                  float64\n",
      "regionidneighborhood            float64\n",
      "regionidzip                     float64\n",
      "roomcnt                         float64\n",
      "storytypeid                     float64\n",
      "threequarterbathnbr             float64\n",
      "typeconstructiontypeid          float64\n",
      "unitcnt                         float64\n",
      "yardbuildingsqft17              float64\n",
      "yardbuildingsqft26              float64\n",
      "yearbuilt                       float64\n",
      "numberofstories                 float64\n",
      "fireplaceflag                   object\n",
      "structuretaxvaluedollarcnt      float64\n",
      "taxvaluedollarcnt               float64\n",
      "assessmentyear                  float64\n",
      "landtaxvaluedollarcnt           float64\n",
      "taxamount                       float64\n",
      "taxdelinquencyflag              object\n",
      "taxdelinquencyyear              float64\n",
      "censustractandblock             float64\n",
      "dtypes: float64(52), int64(7), object(5)\n",
      "memory usage: 1.4+ GB\n"
     ]
    }
   ],
   "source": [
    "test_df.info()"
   ]
  },
  {
   "cell_type": "code",
   "execution_count": 10,
   "metadata": {
    "collapsed": true
   },
   "outputs": [],
   "source": [
    "# to make this notebook's output identical at every run\n",
    "np.random.seed(42)"
   ]
  },
  {
   "cell_type": "code",
   "execution_count": 11,
   "metadata": {
    "collapsed": false
   },
   "outputs": [
    {
     "data": {
      "image/png": "[encoded data removed]",
      "text/plain": [
       "<matplotlib.figure.Figure at 0x2e23cba8>"
      ]
     },
     "metadata": {},
     "output_type": "display_data"
    }
   ],
   "source": [
    "# Let's check the logerror to see how it is distributed and if there are outliers.\n",
    "import seaborn as sns\n",
    "plt.figure(figsize=(8,6))\n",
    "sns.distplot(train_df.logerror.values, bins=1, kde=False)\n",
    "plt.xlabel('Index', fontsize=12)\n",
    "plt.show()"
   ]
  },
  {
   "cell_type": "code",
   "execution_count": 12,
   "metadata": {
    "collapsed": false
   },
   "outputs": [
    {
     "data": {
      "text/plain": [
       "{'boxes': [<matplotlib.lines.Line2D at 0x3639cb70>],\n",
       " 'caps': [<matplotlib.lines.Line2D at 0x3a61d860>,\n",
       "  <matplotlib.lines.Line2D at 0x3a61ddd8>],\n",
       " 'fliers': [<matplotlib.lines.Line2D at 0x3a62b908>],\n",
       " 'means': [],\n",
       " 'medians': [<matplotlib.lines.Line2D at 0x3a62b390>],\n",
       " 'whiskers': [<matplotlib.lines.Line2D at 0x4e9a6d8>,\n",
       "  <matplotlib.lines.Line2D at 0x3a61d2e8>]}"
      ]
     },
     "execution_count": 12,
     "metadata": {},
     "output_type": "execute_result"
    },
    {
     "data": {
      "image/png": "[encoded data removed]",
      "text/plain": [
       "<matplotlib.figure.Figure at 0x2e23c9e8>"
      ]
     },
     "metadata": {},
     "output_type": "display_data"
    }
   ],
   "source": [
    "import matplotlib.pyplot as plt\n",
    "import numpy as np\n",
    "# basic plot\n",
    "plt.boxplot(train_df.logerror.values)"
   ]
  },
  {
   "cell_type": "code",
   "execution_count": 13,
   "metadata": {
    "collapsed": false
   },
   "outputs": [
    {
     "name": "stderr",
     "output_type": "stream",
     "text": [
      "C:\\Users\\203014767\\.conda\\envs\\DAND\\lib\\site-packages\\pandas\\core\\indexing.py:140: SettingWithCopyWarning: \n",
      "A value is trying to be set on a copy of a slice from a DataFrame\n",
      "\n",
      "See the caveats in the documentation: http://pandas.pydata.org/pandas-docs/stable/indexing.html#indexing-view-versus-copy\n",
      "  self._setitem_with_indexer(indexer, value)\n"
     ]
    },
    {
     "data": {
      "image/png": "[encoded data removed]",
      "text/plain": [
       "<matplotlib.figure.Figure at 0x2c0a1c18>"
      ]
     },
     "metadata": {},
     "output_type": "display_data"
    }
   ],
   "source": [
    "# Let's remove the top and bottom 5% of outliers\n",
    "outlier_upper = np.percentile(train_df.logerror.values, 95)\n",
    "outlier_lower = np.percentile(train_df.logerror.values, 5)\n",
    "train_df['logerror'].ix[train_df['logerror']>outlier_upper] = outlier_upper\n",
    "train_df['logerror'].ix[train_df['logerror']<outlier_lower] = outlier_lower\n",
    "\n",
    "plt.figure(figsize=(8,6))\n",
    "sns.distplot(train_df.logerror.values, bins=50, kde=False)\n",
    "plt.xlabel('Logerror', fontsize=10)\n",
    "plt.show()"
   ]
  },
  {
   "cell_type": "code",
   "execution_count": 14,
   "metadata": {
    "collapsed": false
   },
   "outputs": [],
   "source": [
    "corr_matrix = train_df.corr()"
   ]
  },
  {
   "cell_type": "code",
   "execution_count": 15,
   "metadata": {
    "collapsed": false
   },
   "outputs": [
    {
     "data": {
      "text/plain": [
       "logerror                        1.000000\n",
       "basementsqft                    0.142301\n",
       "finishedsquarefeet12            0.077463\n",
       "calculatedfinishedsquarefeet    0.072677\n",
       "calculatedbathnbr               0.058213\n",
       "bathroomcnt                     0.057267\n",
       "fullbathcnt                     0.054740\n",
       "finishedsquarefeet15            0.052168\n",
       "fireplacecnt                    0.044177\n",
       "numberofstories                 0.043762\n",
       "bedroomcnt                      0.040753\n",
       "structuretaxvaluedollarcnt      0.034817\n",
       "yardbuildingsqft26              0.031133\n",
       "garagetotalsqft                 0.030732\n",
       "garagecarcnt                    0.030480\n",
       "yearbuilt                       0.029344\n",
       "taxvaluedollarcnt               0.025405\n",
       "threequarterbathnbr             0.023085\n",
       "censustractandblock             0.019565\n",
       "roomcnt                         0.018559\n",
       "fips                            0.018362\n",
       "rawcensustractandblock          0.018245\n",
       "landtaxvaluedollarcnt           0.016332\n",
       "parcelid                        0.014106\n",
       "airconditioningtypeid           0.010103\n",
       "longitude                       0.008272\n",
       "taxamount                       0.007111\n",
       "lotsizesquarefeet               0.005634\n",
       "architecturalstyletypeid        0.004033\n",
       "finishedfloor1squarefeet        0.001720\n",
       "regionidneighborhood            0.000578\n",
       "regionidcity                    0.000551\n",
       "regionidzip                    -0.000518\n",
       "finishedsquarefeet50           -0.000665\n",
       "unitcnt                        -0.002494\n",
       "poolsizesum                    -0.002559\n",
       "propertylandusetypeid          -0.003489\n",
       "taxdelinquencyyear             -0.004939\n",
       "latitude                       -0.013804\n",
       "buildingqualitytypeid          -0.014065\n",
       "heatingorsystemtypeid          -0.018738\n",
       "regionidcounty                 -0.019033\n",
       "finishedsquarefeet6            -0.035344\n",
       "finishedsquarefeet13           -0.035783\n",
       "typeconstructiontypeid         -0.043766\n",
       "yardbuildingsqft17             -0.046463\n",
       "buildingclasstypeid                  NaN\n",
       "decktypeid                           NaN\n",
       "poolcnt                              NaN\n",
       "pooltypeid10                         NaN\n",
       "pooltypeid2                          NaN\n",
       "pooltypeid7                          NaN\n",
       "storytypeid                          NaN\n",
       "assessmentyear                       NaN\n",
       "Name: logerror, dtype: float64"
      ]
     },
     "execution_count": 15,
     "metadata": {},
     "output_type": "execute_result"
    }
   ],
   "source": [
    "corr_matrix[\"logerror\"].sort_values(ascending=False)"
   ]
  },
  {
   "cell_type": "markdown",
   "metadata": {},
   "source": [
    "### Prepare the data for Machine Learning algorithms"
   ]
  },
  {
   "cell_type": "code",
   "execution_count": 16,
   "metadata": {
    "collapsed": false
   },
   "outputs": [
    {
     "data": {
      "text/html": [
       "<div>\n",
       "<table border=\"1\" class=\"dataframe\">\n",
       "  <thead>\n",
       "    <tr style=\"text-align: right;\">\n",
       "      <th></th>\n",
       "      <th>parcelid</th>\n",
       "      <th>logerror</th>\n",
       "      <th>transactiondate</th>\n",
       "      <th>airconditioningtypeid</th>\n",
       "      <th>architecturalstyletypeid</th>\n",
       "      <th>basementsqft</th>\n",
       "      <th>bathroomcnt</th>\n",
       "      <th>bedroomcnt</th>\n",
       "      <th>buildingclasstypeid</th>\n",
       "      <th>buildingqualitytypeid</th>\n",
       "      <th>...</th>\n",
       "      <th>numberofstories</th>\n",
       "      <th>fireplaceflag</th>\n",
       "      <th>structuretaxvaluedollarcnt</th>\n",
       "      <th>taxvaluedollarcnt</th>\n",
       "      <th>assessmentyear</th>\n",
       "      <th>landtaxvaluedollarcnt</th>\n",
       "      <th>taxamount</th>\n",
       "      <th>taxdelinquencyflag</th>\n",
       "      <th>taxdelinquencyyear</th>\n",
       "      <th>censustractandblock</th>\n",
       "    </tr>\n",
       "  </thead>\n",
       "  <tbody>\n",
       "    <tr>\n",
       "      <th>0</th>\n",
       "      <td>11016594</td>\n",
       "      <td>0.0276</td>\n",
       "      <td>2016-01-01</td>\n",
       "      <td>1.0</td>\n",
       "      <td>NaN</td>\n",
       "      <td>NaN</td>\n",
       "      <td>2.0</td>\n",
       "      <td>3.0</td>\n",
       "      <td>NaN</td>\n",
       "      <td>4.0</td>\n",
       "      <td>...</td>\n",
       "      <td>NaN</td>\n",
       "      <td>NaN</td>\n",
       "      <td>122754.0</td>\n",
       "      <td>360170.0</td>\n",
       "      <td>2015.0</td>\n",
       "      <td>237416.0</td>\n",
       "      <td>6735.88</td>\n",
       "      <td>NaN</td>\n",
       "      <td>NaN</td>\n",
       "      <td>6.037107e+13</td>\n",
       "    </tr>\n",
       "    <tr>\n",
       "      <th>1</th>\n",
       "      <td>14366692</td>\n",
       "      <td>-0.1267</td>\n",
       "      <td>2016-01-01</td>\n",
       "      <td>NaN</td>\n",
       "      <td>NaN</td>\n",
       "      <td>NaN</td>\n",
       "      <td>3.5</td>\n",
       "      <td>4.0</td>\n",
       "      <td>NaN</td>\n",
       "      <td>NaN</td>\n",
       "      <td>...</td>\n",
       "      <td>NaN</td>\n",
       "      <td>NaN</td>\n",
       "      <td>346458.0</td>\n",
       "      <td>585529.0</td>\n",
       "      <td>2015.0</td>\n",
       "      <td>239071.0</td>\n",
       "      <td>10153.02</td>\n",
       "      <td>NaN</td>\n",
       "      <td>NaN</td>\n",
       "      <td>NaN</td>\n",
       "    </tr>\n",
       "    <tr>\n",
       "      <th>2</th>\n",
       "      <td>12098116</td>\n",
       "      <td>-0.0040</td>\n",
       "      <td>2016-01-01</td>\n",
       "      <td>1.0</td>\n",
       "      <td>NaN</td>\n",
       "      <td>NaN</td>\n",
       "      <td>3.0</td>\n",
       "      <td>2.0</td>\n",
       "      <td>NaN</td>\n",
       "      <td>4.0</td>\n",
       "      <td>...</td>\n",
       "      <td>NaN</td>\n",
       "      <td>NaN</td>\n",
       "      <td>61994.0</td>\n",
       "      <td>119906.0</td>\n",
       "      <td>2015.0</td>\n",
       "      <td>57912.0</td>\n",
       "      <td>11484.48</td>\n",
       "      <td>NaN</td>\n",
       "      <td>NaN</td>\n",
       "      <td>6.037464e+13</td>\n",
       "    </tr>\n",
       "    <tr>\n",
       "      <th>3</th>\n",
       "      <td>12643413</td>\n",
       "      <td>0.0218</td>\n",
       "      <td>2016-01-02</td>\n",
       "      <td>1.0</td>\n",
       "      <td>NaN</td>\n",
       "      <td>NaN</td>\n",
       "      <td>2.0</td>\n",
       "      <td>2.0</td>\n",
       "      <td>NaN</td>\n",
       "      <td>4.0</td>\n",
       "      <td>...</td>\n",
       "      <td>NaN</td>\n",
       "      <td>NaN</td>\n",
       "      <td>171518.0</td>\n",
       "      <td>244880.0</td>\n",
       "      <td>2015.0</td>\n",
       "      <td>73362.0</td>\n",
       "      <td>3048.74</td>\n",
       "      <td>NaN</td>\n",
       "      <td>NaN</td>\n",
       "      <td>6.037296e+13</td>\n",
       "    </tr>\n",
       "    <tr>\n",
       "      <th>4</th>\n",
       "      <td>14432541</td>\n",
       "      <td>-0.0050</td>\n",
       "      <td>2016-01-02</td>\n",
       "      <td>NaN</td>\n",
       "      <td>NaN</td>\n",
       "      <td>NaN</td>\n",
       "      <td>2.5</td>\n",
       "      <td>4.0</td>\n",
       "      <td>NaN</td>\n",
       "      <td>NaN</td>\n",
       "      <td>...</td>\n",
       "      <td>2.0</td>\n",
       "      <td>NaN</td>\n",
       "      <td>169574.0</td>\n",
       "      <td>434551.0</td>\n",
       "      <td>2015.0</td>\n",
       "      <td>264977.0</td>\n",
       "      <td>5488.96</td>\n",
       "      <td>NaN</td>\n",
       "      <td>NaN</td>\n",
       "      <td>6.059042e+13</td>\n",
       "    </tr>\n",
       "  </tbody>\n",
       "</table>\n",
       "<p>5 rows × 60 columns</p>\n",
       "</div>"
      ],
      "text/plain": [
       "   parcelid  logerror transactiondate  airconditioningtypeid  \\\n",
       "0  11016594    0.0276      2016-01-01                    1.0   \n",
       "1  14366692   -0.1267      2016-01-01                    NaN   \n",
       "2  12098116   -0.0040      2016-01-01                    1.0   \n",
       "3  12643413    0.0218      2016-01-02                    1.0   \n",
       "4  14432541   -0.0050      2016-01-02                    NaN   \n",
       "\n",
       "   architecturalstyletypeid  basementsqft  bathroomcnt  bedroomcnt  \\\n",
       "0                       NaN           NaN          2.0         3.0   \n",
       "1                       NaN           NaN          3.5         4.0   \n",
       "2                       NaN           NaN          3.0         2.0   \n",
       "3                       NaN           NaN          2.0         2.0   \n",
       "4                       NaN           NaN          2.5         4.0   \n",
       "\n",
       "   buildingclasstypeid  buildingqualitytypeid         ...           \\\n",
       "0                  NaN                    4.0         ...            \n",
       "1                  NaN                    NaN         ...            \n",
       "2                  NaN                    4.0         ...            \n",
       "3                  NaN                    4.0         ...            \n",
       "4                  NaN                    NaN         ...            \n",
       "\n",
       "   numberofstories  fireplaceflag  structuretaxvaluedollarcnt  \\\n",
       "0              NaN            NaN                    122754.0   \n",
       "1              NaN            NaN                    346458.0   \n",
       "2              NaN            NaN                     61994.0   \n",
       "3              NaN            NaN                    171518.0   \n",
       "4              2.0            NaN                    169574.0   \n",
       "\n",
       "   taxvaluedollarcnt  assessmentyear  landtaxvaluedollarcnt  taxamount  \\\n",
       "0           360170.0          2015.0               237416.0    6735.88   \n",
       "1           585529.0          2015.0               239071.0   10153.02   \n",
       "2           119906.0          2015.0                57912.0   11484.48   \n",
       "3           244880.0          2015.0                73362.0    3048.74   \n",
       "4           434551.0          2015.0               264977.0    5488.96   \n",
       "\n",
       "   taxdelinquencyflag  taxdelinquencyyear  censustractandblock  \n",
       "0                 NaN                 NaN         6.037107e+13  \n",
       "1                 NaN                 NaN                  NaN  \n",
       "2                 NaN                 NaN         6.037464e+13  \n",
       "3                 NaN                 NaN         6.037296e+13  \n",
       "4                 NaN                 NaN         6.059042e+13  \n",
       "\n",
       "[5 rows x 60 columns]"
      ]
     },
     "execution_count": 16,
     "metadata": {},
     "output_type": "execute_result"
    }
   ],
   "source": [
    "sample_incomplete_rows = train_df[train_df.isnull().any(axis=1)].head()\n",
    "sample_incomplete_rows"
   ]
  },
  {
   "cell_type": "code",
   "execution_count": 17,
   "metadata": {
    "collapsed": false
   },
   "outputs": [
    {
     "data": {
      "text/plain": [
       "parcelid                        0.000000\n",
       "logerror                        0.000000\n",
       "transactiondate                 0.000000\n",
       "airconditioningtypeid           0.681185\n",
       "architecturalstyletypeid        0.997109\n",
       "basementsqft                    0.999524\n",
       "bathroomcnt                     0.000000\n",
       "bedroomcnt                      0.000000\n",
       "buildingclasstypeid             0.999823\n",
       "buildingqualitytypeid           0.364564\n",
       "calculatedbathnbr               0.013093\n",
       "decktypeid                      0.992711\n",
       "finishedfloor1squarefeet        0.924054\n",
       "calculatedfinishedsquarefeet    0.007322\n",
       "finishedsquarefeet12            0.051831\n",
       "finishedsquarefeet13            0.999634\n",
       "finishedsquarefeet15            0.960521\n",
       "finishedsquarefeet50            0.924054\n",
       "finishedsquarefeet6             0.995336\n",
       "fips                            0.000000\n",
       "fireplacecnt                    0.893581\n",
       "fullbathcnt                     0.013093\n",
       "garagecarcnt                    0.668380\n",
       "garagetotalsqft                 0.668380\n",
       "hashottuborspa                  0.973802\n",
       "heatingorsystemtypeid           0.378787\n",
       "latitude                        0.000000\n",
       "longitude                       0.000000\n",
       "lotsizesquarefeet               0.112434\n",
       "poolcnt                         0.801706\n",
       "poolsizesum                     0.989266\n",
       "pooltypeid10                    0.987139\n",
       "pooltypeid2                     0.986663\n",
       "pooltypeid7                     0.815043\n",
       "propertycountylandusecode       0.000011\n",
       "propertylandusetypeid           0.000000\n",
       "propertyzoningdesc              0.354052\n",
       "rawcensustractandblock          0.000000\n",
       "regionidcity                    0.019972\n",
       "regionidcounty                  0.000000\n",
       "regionidneighborhood            0.601086\n",
       "regionidzip                     0.000388\n",
       "roomcnt                         0.000000\n",
       "storytypeid                     0.999524\n",
       "threequarterbathnbr             0.866973\n",
       "typeconstructiontypeid          0.996688\n",
       "unitcnt                         0.353608\n",
       "yardbuildingsqft17              0.970690\n",
       "yardbuildingsqft26              0.998948\n",
       "yearbuilt                       0.008374\n",
       "numberofstories                 0.772141\n",
       "fireplaceflag                   0.997541\n",
       "structuretaxvaluedollarcnt      0.004209\n",
       "taxvaluedollarcnt               0.000011\n",
       "assessmentyear                  0.000000\n",
       "landtaxvaluedollarcnt           0.000011\n",
       "taxamount                       0.000066\n",
       "taxdelinquencyflag              0.980249\n",
       "taxdelinquencyyear              0.980249\n",
       "censustractandblock             0.006702\n",
       "dtype: float64"
      ]
     },
     "execution_count": 17,
     "metadata": {},
     "output_type": "execute_result"
    }
   ],
   "source": [
    "Blanks = train_df.isnull().sum() / len(train_df)\n",
    "Blanks"
   ]
  },
  {
   "cell_type": "code",
   "execution_count": 18,
   "metadata": {
    "collapsed": false
   },
   "outputs": [],
   "source": [
    "#Drop fields with over 75% NANs\n",
    "train_df = train_df.drop(['taxdelinquencyyear', 'taxdelinquencyflag', 'fireplaceflag', 'yardbuildingsqft26', \n",
    "                       'yardbuildingsqft17', 'typeconstructiontypeid', 'storytypeid', 'poolsizesum', \n",
    "                       'pooltypeid10', 'pooltypeid2', 'hashottuborspa',\n",
    "                       'finishedsquarefeet13', 'finishedsquarefeet15', 'finishedsquarefeet50', 'finishedsquarefeet6',\n",
    "                       'decktypeid', 'finishedfloor1squarefeet', 'buildingclasstypeid', \n",
    "                       'architecturalstyletypeid', 'basementsqft', 'architecturalstyletypeid',\n",
    "                       'threequarterbathnbr', 'fireplacecnt', 'poolcnt', 'pooltypeid7', 'numberofstories'], axis = 1)\n",
    "\n"
   ]
  },
  {
   "cell_type": "code",
   "execution_count": 19,
   "metadata": {
    "collapsed": false
   },
   "outputs": [
    {
     "data": {
      "text/plain": [
       "parcelid                        0.000000\n",
       "logerror                        0.000000\n",
       "transactiondate                 0.000000\n",
       "airconditioningtypeid           0.681185\n",
       "bathroomcnt                     0.000000\n",
       "bedroomcnt                      0.000000\n",
       "buildingqualitytypeid           0.364564\n",
       "calculatedbathnbr               0.013093\n",
       "calculatedfinishedsquarefeet    0.007322\n",
       "finishedsquarefeet12            0.051831\n",
       "fips                            0.000000\n",
       "fullbathcnt                     0.013093\n",
       "garagecarcnt                    0.668380\n",
       "garagetotalsqft                 0.668380\n",
       "heatingorsystemtypeid           0.378787\n",
       "latitude                        0.000000\n",
       "longitude                       0.000000\n",
       "lotsizesquarefeet               0.112434\n",
       "propertycountylandusecode       0.000011\n",
       "propertylandusetypeid           0.000000\n",
       "propertyzoningdesc              0.354052\n",
       "rawcensustractandblock          0.000000\n",
       "regionidcity                    0.019972\n",
       "regionidcounty                  0.000000\n",
       "regionidneighborhood            0.601086\n",
       "regionidzip                     0.000388\n",
       "roomcnt                         0.000000\n",
       "unitcnt                         0.353608\n",
       "yearbuilt                       0.008374\n",
       "structuretaxvaluedollarcnt      0.004209\n",
       "taxvaluedollarcnt               0.000011\n",
       "assessmentyear                  0.000000\n",
       "landtaxvaluedollarcnt           0.000011\n",
       "taxamount                       0.000066\n",
       "censustractandblock             0.006702\n",
       "dtype: float64"
      ]
     },
     "execution_count": 19,
     "metadata": {},
     "output_type": "execute_result"
    }
   ],
   "source": [
    "Blanks = train_df.isnull().sum() / len(train_df)\n",
    "Blanks"
   ]
  },
  {
   "cell_type": "code",
   "execution_count": 20,
   "metadata": {
    "collapsed": false
   },
   "outputs": [
    {
     "name": "stdout",
     "output_type": "stream",
     "text": [
      "<class 'pandas.core.frame.DataFrame'>\n",
      "Int64Index: 90275 entries, 0 to 90274\n",
      "Data columns (total 35 columns):\n",
      "parcelid                        90275 non-null int64\n",
      "logerror                        90275 non-null float64\n",
      "transactiondate                 90275 non-null datetime64[ns]\n",
      "airconditioningtypeid           28781 non-null float64\n",
      "bathroomcnt                     90275 non-null float64\n",
      "bedroomcnt                      90275 non-null float64\n",
      "buildingqualitytypeid           57364 non-null float64\n",
      "calculatedbathnbr               89093 non-null float64\n",
      "calculatedfinishedsquarefeet    89614 non-null float64\n",
      "finishedsquarefeet12            85596 non-null float64\n",
      "fips                            90275 non-null float64\n",
      "fullbathcnt                     89093 non-null float64\n",
      "garagecarcnt                    29937 non-null float64\n",
      "garagetotalsqft                 29937 non-null float64\n",
      "heatingorsystemtypeid           56080 non-null float64\n",
      "latitude                        90275 non-null float64\n",
      "longitude                       90275 non-null float64\n",
      "lotsizesquarefeet               80125 non-null float64\n",
      "propertycountylandusecode       90274 non-null object\n",
      "propertylandusetypeid           90275 non-null float64\n",
      "propertyzoningdesc              58313 non-null object\n",
      "rawcensustractandblock          90275 non-null float64\n",
      "regionidcity                    88472 non-null float64\n",
      "regionidcounty                  90275 non-null float64\n",
      "regionidneighborhood            36012 non-null float64\n",
      "regionidzip                     90240 non-null float64\n",
      "roomcnt                         90275 non-null float64\n",
      "unitcnt                         58353 non-null float64\n",
      "yearbuilt                       89519 non-null float64\n",
      "structuretaxvaluedollarcnt      89895 non-null float64\n",
      "taxvaluedollarcnt               90274 non-null float64\n",
      "assessmentyear                  90275 non-null float64\n",
      "landtaxvaluedollarcnt           90274 non-null float64\n",
      "taxamount                       90269 non-null float64\n",
      "censustractandblock             89670 non-null float64\n",
      "dtypes: datetime64[ns](1), float64(31), int64(1), object(2)\n",
      "memory usage: 24.8+ MB\n"
     ]
    }
   ],
   "source": [
    "train_df.info()"
   ]
  },
  {
   "cell_type": "code",
   "execution_count": 21,
   "metadata": {
    "collapsed": false
   },
   "outputs": [],
   "source": [
    "#remove categorical variables\n",
    "train_df = train_df.drop(['propertyzoningdesc', 'propertycountylandusecode', 'transactiondate', 'parcelid'], axis = 1)"
   ]
  },
  {
   "cell_type": "code",
   "execution_count": 22,
   "metadata": {
    "collapsed": false
   },
   "outputs": [
    {
     "data": {
      "text/plain": [
       "['logerror',\n",
       " 'airconditioningtypeid',\n",
       " 'bathroomcnt',\n",
       " 'bedroomcnt',\n",
       " 'buildingqualitytypeid',\n",
       " 'calculatedbathnbr',\n",
       " 'calculatedfinishedsquarefeet',\n",
       " 'finishedsquarefeet12',\n",
       " 'fips',\n",
       " 'fullbathcnt',\n",
       " 'garagecarcnt',\n",
       " 'garagetotalsqft',\n",
       " 'heatingorsystemtypeid',\n",
       " 'latitude',\n",
       " 'longitude',\n",
       " 'lotsizesquarefeet',\n",
       " 'propertylandusetypeid',\n",
       " 'rawcensustractandblock',\n",
       " 'regionidcity',\n",
       " 'regionidcounty',\n",
       " 'regionidneighborhood',\n",
       " 'regionidzip',\n",
       " 'roomcnt',\n",
       " 'unitcnt',\n",
       " 'yearbuilt',\n",
       " 'structuretaxvaluedollarcnt',\n",
       " 'taxvaluedollarcnt',\n",
       " 'assessmentyear',\n",
       " 'landtaxvaluedollarcnt',\n",
       " 'taxamount',\n",
       " 'censustractandblock']"
      ]
     },
     "execution_count": 22,
     "metadata": {},
     "output_type": "execute_result"
    }
   ],
   "source": [
    "num_attribs = list(train_df)\n",
    "num_attribs"
   ]
  },
  {
   "cell_type": "code",
   "execution_count": 23,
   "metadata": {
    "collapsed": false
   },
   "outputs": [],
   "source": [
    "from sklearn.base import BaseEstimator, TransformerMixin\n",
    "\n",
    "# Create a class to select numerical or categorical columns \n",
    "# since Scikit-Learn doesn't handle DataFrames yet\n",
    "class DataFrameSelector(BaseEstimator, TransformerMixin):\n",
    "    def __init__(self, attribute_names):\n",
    "        self.attribute_names = attribute_names\n",
    "    def fit(self, X, y=None):\n",
    "        return self\n",
    "    def transform(self, X):\n",
    "        return X[self.attribute_names].values"
   ]
  },
  {
   "cell_type": "code",
   "execution_count": 24,
   "metadata": {
    "collapsed": true
   },
   "outputs": [],
   "source": [
    "train_df_labels = train_df['logerror'].values"
   ]
  },
  {
   "cell_type": "code",
   "execution_count": 25,
   "metadata": {
    "collapsed": true
   },
   "outputs": [],
   "source": [
    "train_df = train_df.drop(['logerror'], axis = 1)"
   ]
  },
  {
   "cell_type": "code",
   "execution_count": 26,
   "metadata": {
    "collapsed": false
   },
   "outputs": [],
   "source": [
    "from sklearn.pipeline import Pipeline\n",
    "from sklearn.preprocessing import StandardScaler\n",
    "from sklearn.preprocessing import Imputer\n",
    "\n",
    "num_attribs = list(train_df)\n",
    "\n",
    "num_pipeline = Pipeline([\n",
    "        ('selector', DataFrameSelector(num_attribs)),\n",
    "        ('imputer', Imputer(strategy=\"median\")),\n",
    "        ('std_scaler', StandardScaler()),\n",
    "    ])\n"
   ]
  },
  {
   "cell_type": "code",
   "execution_count": 27,
   "metadata": {
    "collapsed": false
   },
   "outputs": [],
   "source": [
    "train_df_prepared = num_pipeline.fit_transform(train_df)"
   ]
  },
  {
   "cell_type": "code",
   "execution_count": 28,
   "metadata": {
    "collapsed": false
   },
   "outputs": [
    {
     "data": {
      "text/plain": [
       "array([[-0.15115791, -0.27828682, -0.02755836, ..., -0.1021705 ,\n",
       "         0.10996366, -0.58606834],\n",
       "       [-0.15115791,  1.21534222,  0.83717255, ..., -0.09803808,\n",
       "         0.6096462 , -0.56117457],\n",
       "       [-0.15115791,  0.71746587, -0.89228927, ..., -0.55038018,\n",
       "         0.80434332, -0.56857702],\n",
       "       ..., \n",
       "       [-0.15115791, -0.27828682,  0.83717255, ..., -0.65481196,\n",
       "        -0.59342075, -0.57010013],\n",
       "       [-0.15115791, -0.27828682, -0.89228927, ..., -0.61288843,\n",
       "        -0.54079757, -0.56183814],\n",
       "       [-0.15115791, -1.27403951, -0.02755836, ..., -0.45333184,\n",
       "        -0.50052777, -0.56464926]])"
      ]
     },
     "execution_count": 28,
     "metadata": {},
     "output_type": "execute_result"
    }
   ],
   "source": [
    "train_df_prepared"
   ]
  },
  {
   "cell_type": "code",
   "execution_count": 29,
   "metadata": {
    "collapsed": false
   },
   "outputs": [
    {
     "data": {
      "text/plain": [
       "(90275L, 30L)"
      ]
     },
     "execution_count": 29,
     "metadata": {},
     "output_type": "execute_result"
    }
   ],
   "source": [
    "train_df_prepared.shape"
   ]
  },
  {
   "cell_type": "markdown",
   "metadata": {},
   "source": [
    "# Select and train a model"
   ]
  },
  {
   "cell_type": "code",
   "execution_count": 30,
   "metadata": {
    "collapsed": false
   },
   "outputs": [],
   "source": [
    "from sklearn.model_selection import train_test_split\n",
    "X_train, X_test, y_train, y_test = train_test_split(train_df_prepared, train_df_labels, test_size=0.3, random_state=42)"
   ]
  },
  {
   "cell_type": "code",
   "execution_count": 31,
   "metadata": {
    "collapsed": false
   },
   "outputs": [
    {
     "data": {
      "text/plain": [
       "LinearRegression(copy_X=True, fit_intercept=True, n_jobs=1, normalize=False)"
      ]
     },
     "execution_count": 31,
     "metadata": {},
     "output_type": "execute_result"
    }
   ],
   "source": [
    "from sklearn.linear_model import LinearRegression\n",
    "\n",
    "lin_reg = LinearRegression()\n",
    "lin_reg.fit(X_train, y_train)"
   ]
  },
  {
   "cell_type": "code",
   "execution_count": 32,
   "metadata": {
    "collapsed": false
   },
   "outputs": [
    {
     "data": {
      "text/plain": [
       "0.065983652753749969"
      ]
     },
     "execution_count": 32,
     "metadata": {},
     "output_type": "execute_result"
    }
   ],
   "source": [
    "from sklearn.metrics import mean_squared_error\n",
    "\n",
    "lin_train_predictions = lin_reg.predict(X_train)\n",
    "lin_mse = mean_squared_error(y_train, lin_train_predictions)\n",
    "lin_rmse = np.sqrt(lin_mse)\n",
    "lin_rmse"
   ]
  },
  {
   "cell_type": "code",
   "execution_count": 33,
   "metadata": {
    "collapsed": false
   },
   "outputs": [
    {
     "data": {
      "text/plain": [
       "0.048261431561273369"
      ]
     },
     "execution_count": 33,
     "metadata": {},
     "output_type": "execute_result"
    }
   ],
   "source": [
    "from sklearn.metrics import mean_absolute_error\n",
    "\n",
    "lin_mae = mean_absolute_error(y_train, lin_train_predictions)\n",
    "lin_mae"
   ]
  },
  {
   "cell_type": "code",
   "execution_count": 34,
   "metadata": {
    "collapsed": false
   },
   "outputs": [
    {
     "data": {
      "text/plain": [
       "0.048322989763419935"
      ]
     },
     "execution_count": 34,
     "metadata": {},
     "output_type": "execute_result"
    }
   ],
   "source": [
    "from sklearn.metrics import mean_absolute_error\n",
    "\n",
    "lin_test_predictions = lin_reg.predict(X_test)\n",
    "lin_mae_test = mean_absolute_error(y_test, lin_test_predictions)\n",
    "lin_mae_test"
   ]
  },
  {
   "cell_type": "code",
   "execution_count": 35,
   "metadata": {
    "collapsed": false
   },
   "outputs": [
    {
     "data": {
      "text/plain": [
       "DecisionTreeRegressor(criterion='mse', max_depth=None, max_features=None,\n",
       "           max_leaf_nodes=None, min_impurity_split=1e-07,\n",
       "           min_samples_leaf=1, min_samples_split=2,\n",
       "           min_weight_fraction_leaf=0.0, presort=False, random_state=42,\n",
       "           splitter='best')"
      ]
     },
     "execution_count": 35,
     "metadata": {},
     "output_type": "execute_result"
    }
   ],
   "source": [
    "from sklearn.tree import DecisionTreeRegressor\n",
    "\n",
    "tree_reg = DecisionTreeRegressor(random_state=42)\n",
    "tree_reg.fit(X_train, y_train)"
   ]
  },
  {
   "cell_type": "code",
   "execution_count": 36,
   "metadata": {
    "collapsed": false
   },
   "outputs": [
    {
     "data": {
      "text/plain": [
       "9.6894649111701968e-05"
      ]
     },
     "execution_count": 36,
     "metadata": {},
     "output_type": "execute_result"
    }
   ],
   "source": [
    "DT_predictions = tree_reg.predict(X_train)\n",
    "DT_mae_train = mean_absolute_error(y_train, DT_predictions)\n",
    "DT_mae_train"
   ]
  },
  {
   "cell_type": "code",
   "execution_count": 37,
   "metadata": {
    "collapsed": false
   },
   "outputs": [
    {
     "data": {
      "text/plain": [
       "0.07024754783795141"
      ]
     },
     "execution_count": 37,
     "metadata": {},
     "output_type": "execute_result"
    }
   ],
   "source": [
    "DT_test_predictions = tree_reg.predict(X_test)\n",
    "DT_mae_test = mean_absolute_error(y_test, DT_test_predictions)\n",
    "DT_mae_test"
   ]
  },
  {
   "cell_type": "code",
   "execution_count": 38,
   "metadata": {
    "collapsed": false
   },
   "outputs": [
    {
     "data": {
      "text/plain": [
       "RandomForestRegressor(bootstrap=True, criterion='mse', max_depth=None,\n",
       "           max_features='auto', max_leaf_nodes=None,\n",
       "           min_impurity_split=1e-07, min_samples_leaf=1,\n",
       "           min_samples_split=2, min_weight_fraction_leaf=0.0,\n",
       "           n_estimators=10, n_jobs=1, oob_score=False, random_state=42,\n",
       "           verbose=0, warm_start=False)"
      ]
     },
     "execution_count": 38,
     "metadata": {},
     "output_type": "execute_result"
    }
   ],
   "source": [
    "from sklearn.ensemble import RandomForestRegressor\n",
    "\n",
    "forest_reg = RandomForestRegressor(random_state=42)\n",
    "forest_reg.fit(X_train, y_train)"
   ]
  },
  {
   "cell_type": "code",
   "execution_count": 39,
   "metadata": {
    "collapsed": false
   },
   "outputs": [
    {
     "data": {
      "text/plain": [
       "0.02062647160405074"
      ]
     },
     "execution_count": 39,
     "metadata": {},
     "output_type": "execute_result"
    }
   ],
   "source": [
    "from sklearn.metrics import mean_absolute_error\n",
    "\n",
    "RF_predictions = forest_reg.predict(X_train)\n",
    "RF_mae_train = mean_absolute_error(y_train, RF_predictions)\n",
    "RF_mae_train"
   ]
  },
  {
   "cell_type": "code",
   "execution_count": 65,
   "metadata": {
    "collapsed": false
   },
   "outputs": [],
   "source": [
    "feature_importances = forest_reg.feature_importances_"
   ]
  },
  {
   "cell_type": "code",
   "execution_count": 66,
   "metadata": {
    "collapsed": true
   },
   "outputs": [],
   "source": [
    "from sklearn.base import BaseEstimator, TransformerMixin\n",
    "\n",
    "def best_features(arr, k):\n",
    "    return np.sort(np.argpartition(np.array(arr), -k)[-k:])\n",
    "\n",
    "class TopFeatureSelector(BaseEstimator, TransformerMixin):\n",
    "    def __init__(self, feature_importances, k):\n",
    "        self.feature_importances = feature_importances\n",
    "        self.k = k\n",
    "    def fit(self, X, y=None):\n",
    "        self.feature_indices_ = best_features(self.feature_importances, self.k)\n",
    "        return self\n",
    "    def transform(self, X):\n",
    "        return X[:, self.feature_indices_]"
   ]
  },
  {
   "cell_type": "code",
   "execution_count": 67,
   "metadata": {
    "collapsed": true
   },
   "outputs": [],
   "source": [
    "k = 5"
   ]
  },
  {
   "cell_type": "code",
   "execution_count": 68,
   "metadata": {
    "collapsed": false
   },
   "outputs": [
    {
     "data": {
      "text/plain": [
       "array([12, 14, 24, 27, 28], dtype=int64)"
      ]
     },
     "execution_count": 68,
     "metadata": {},
     "output_type": "execute_result"
    }
   ],
   "source": [
    "best_features_indices = best_features(feature_importances, k)\n",
    "best_features_indices"
   ]
  },
  {
   "cell_type": "code",
   "execution_count": 69,
   "metadata": {
    "collapsed": false
   },
   "outputs": [
    {
     "data": {
      "text/plain": [
       "array(['latitude', 'lotsizesquarefeet', 'structuretaxvaluedollarcnt',\n",
       "       'landtaxvaluedollarcnt', 'taxamount'], \n",
       "      dtype='|S28')"
      ]
     },
     "execution_count": 69,
     "metadata": {},
     "output_type": "execute_result"
    }
   ],
   "source": [
    "np.array(num_attribs)[best_features_indices]"
   ]
  },
  {
   "cell_type": "code",
   "execution_count": 71,
   "metadata": {
    "collapsed": false
   },
   "outputs": [
    {
     "data": {
      "text/plain": [
       "[(0.090093506302282342, 'structuretaxvaluedollarcnt'),\n",
       " (0.087844990951299995, 'lotsizesquarefeet'),\n",
       " (0.087332157132958138, 'taxamount'),\n",
       " (0.077473532884184113, 'latitude'),\n",
       " (0.077211091580067046, 'landtaxvaluedollarcnt')]"
      ]
     },
     "execution_count": 71,
     "metadata": {},
     "output_type": "execute_result"
    }
   ],
   "source": [
    "# Double check these are the correct features\n",
    "sorted(zip(feature_importances, num_attribs), reverse=True)[:k]"
   ]
  },
  {
   "cell_type": "code",
   "execution_count": 48,
   "metadata": {
    "collapsed": false
   },
   "outputs": [
    {
     "data": {
      "text/plain": [
       "0.051673108808678515"
      ]
     },
     "execution_count": 48,
     "metadata": {},
     "output_type": "execute_result"
    }
   ],
   "source": [
    "RF_test_predictions = forest_reg.predict(X_test)\n",
    "RF_mae_test = mean_absolute_error(y_test, RF_test_predictions)\n",
    "RF_mae_test"
   ]
  },
  {
   "cell_type": "code",
   "execution_count": 52,
   "metadata": {
    "collapsed": false
   },
   "outputs": [],
   "source": [
    "#add feature importance to pipeline\n",
    "\n",
    "from sklearn.pipeline import Pipeline\n",
    "from sklearn.preprocessing import StandardScaler\n",
    "from sklearn.preprocessing import Imputer\n",
    "\n",
    "prepare_select_pipeline = Pipeline([\n",
    "        ('preparation', num_pipeline),\n",
    "        ('feature_selection', TopFeatureSelector(importances, k))\n",
    "])"
   ]
  },
  {
   "cell_type": "code",
   "execution_count": 53,
   "metadata": {
    "collapsed": false
   },
   "outputs": [],
   "source": [
    "train__df_prepared2 = prepare_select_pipeline.fit_transform(train_df)"
   ]
  },
  {
   "cell_type": "code",
   "execution_count": 54,
   "metadata": {
    "collapsed": false
   },
   "outputs": [
    {
     "data": {
      "text/plain": [
       "array([[ 1.04006356, -0.16641973, -0.27376065, -0.1021705 ,  0.10996366],\n",
       "       [-1.27296844, -0.2002369 ,  0.79807379, -0.09803808,  0.6096462 ],\n",
       "       [ 0.49403448, -0.13251552, -0.56488043, -0.55038018,  0.80434332]])"
      ]
     },
     "execution_count": 54,
     "metadata": {},
     "output_type": "execute_result"
    }
   ],
   "source": [
    "train__df_prepared2[0:3]"
   ]
  },
  {
   "cell_type": "code",
   "execution_count": null,
   "metadata": {
    "collapsed": true
   },
   "outputs": [],
   "source": [
    "train__df_prepared[0:3, top_k_feature_indices]"
   ]
  },
  {
   "cell_type": "code",
   "execution_count": 574,
   "metadata": {
    "collapsed": true
   },
   "outputs": [],
   "source": [
    "from sklearn.model_selection import train_test_split\n",
    "X_train, X_test, y_train, y_test = train_test_split(train__df_prepared2, train_df_labels, test_size=0.3, random_state=42)"
   ]
  },
  {
   "cell_type": "code",
   "execution_count": 427,
   "metadata": {
    "collapsed": false
   },
   "outputs": [
    {
     "data": {
      "text/plain": [
       "GridSearchCV(cv=5, error_score='raise',\n",
       "       estimator=RandomForestRegressor(bootstrap=True, criterion='mse', max_depth=None,\n",
       "           max_features='auto', max_leaf_nodes=None,\n",
       "           min_impurity_split=1e-07, min_samples_leaf=1,\n",
       "           min_samples_split=2, min_weight_fraction_leaf=0.0,\n",
       "           n_estimators=10, n_jobs=1, oob_score=False, random_state=42,\n",
       "           verbose=0, warm_start=False),\n",
       "       fit_params={}, iid=True, n_jobs=1,\n",
       "       param_grid=[{u'n_estimators': [3, 10, 30], u'max_features': [2, 4, 6, 8]}, {u'n_estimators': [3, 10], u'max_features': [2, 3, 4], u'bootstrap': [False]}],\n",
       "       pre_dispatch='2*n_jobs', refit=True, return_train_score=True,\n",
       "       scoring=u'neg_mean_squared_error', verbose=0)"
      ]
     },
     "execution_count": 427,
     "metadata": {},
     "output_type": "execute_result"
    }
   ],
   "source": [
    "from sklearn.model_selection import GridSearchCV\n",
    "\n",
    "param_grid = [\n",
    "    {'n_estimators': [3, 10, 30], 'max_features': [2, 4, 6, 8]},\n",
    "    {'bootstrap': [False], 'n_estimators': [3, 10], 'max_features': [2, 3, 4]},\n",
    "  ]\n",
    "\n",
    "# train across 5 folds, that's a total of (12+6)*5=90 rounds of training \n",
    "grid_search = GridSearchCV(forest_reg, param_grid, cv=5,\n",
    "                           scoring='neg_mean_squared_error')\n",
    "grid_search.fit(X_train, y_train)"
   ]
  },
  {
   "cell_type": "code",
   "execution_count": 428,
   "metadata": {
    "collapsed": false
   },
   "outputs": [
    {
     "data": {
      "text/plain": [
       "{u'max_features': 4, u'n_estimators': 30}"
      ]
     },
     "execution_count": 428,
     "metadata": {},
     "output_type": "execute_result"
    }
   ],
   "source": [
    "grid_search.best_params_"
   ]
  },
  {
   "cell_type": "code",
   "execution_count": 429,
   "metadata": {
    "collapsed": false
   },
   "outputs": [
    {
     "data": {
      "text/plain": [
       "RandomForestRegressor(bootstrap=True, criterion='mse', max_depth=None,\n",
       "           max_features=4, max_leaf_nodes=None, min_impurity_split=1e-07,\n",
       "           min_samples_leaf=1, min_samples_split=2,\n",
       "           min_weight_fraction_leaf=0.0, n_estimators=30, n_jobs=1,\n",
       "           oob_score=False, random_state=42, verbose=0, warm_start=False)"
      ]
     },
     "execution_count": 429,
     "metadata": {},
     "output_type": "execute_result"
    }
   ],
   "source": [
    "grid_search.best_estimator_"
   ]
  },
  {
   "cell_type": "code",
   "execution_count": 431,
   "metadata": {
    "collapsed": false
   },
   "outputs": [
    {
     "name": "stdout",
     "output_type": "stream",
     "text": [
      "0.0760987972241 {u'max_features': 2, u'n_estimators': 3}\n",
      "0.0691311499263 {u'max_features': 2, u'n_estimators': 10}\n",
      "0.0669133296311 {u'max_features': 2, u'n_estimators': 30}\n",
      "0.0762668376348 {u'max_features': 4, u'n_estimators': 3}\n",
      "0.0691161976827 {u'max_features': 4, u'n_estimators': 10}\n",
      "0.0669093468582 {u'max_features': 4, u'n_estimators': 30}\n",
      "0.0760632469742 {u'max_features': 6, u'n_estimators': 3}\n",
      "0.0690521173453 {u'max_features': 6, u'n_estimators': 10}\n",
      "0.0670425142241 {u'max_features': 6, u'n_estimators': 30}\n",
      "0.0763602105178 {u'max_features': 8, u'n_estimators': 3}\n",
      "0.0692381016636 {u'max_features': 8, u'n_estimators': 10}\n",
      "0.067022082971 {u'max_features': 8, u'n_estimators': 30}\n",
      "0.0764339929265 {u'max_features': 2, u'n_estimators': 3, u'bootstrap': False}\n",
      "0.0698577216083 {u'max_features': 2, u'n_estimators': 10, u'bootstrap': False}\n",
      "0.0763033393808 {u'max_features': 3, u'n_estimators': 3, u'bootstrap': False}\n",
      "0.0696985158968 {u'max_features': 3, u'n_estimators': 10, u'bootstrap': False}\n",
      "0.0766515828031 {u'max_features': 4, u'n_estimators': 3, u'bootstrap': False}\n",
      "0.0698049994481 {u'max_features': 4, u'n_estimators': 10, u'bootstrap': False}\n"
     ]
    }
   ],
   "source": [
    "cvres = grid_search.cv_results_\n",
    "for mean_score, params in zip(cvres[\"mean_test_score\"], cvres[\"params\"]):\n",
    "    print(np.sqrt(-mean_score), params)"
   ]
  },
  {
   "cell_type": "code",
   "execution_count": 432,
   "metadata": {
    "collapsed": false
   },
   "outputs": [
    {
     "data": {
      "text/plain": [
       "RandomizedSearchCV(cv=5, error_score='raise',\n",
       "          estimator=RandomForestRegressor(bootstrap=True, criterion='mse', max_depth=None,\n",
       "           max_features='auto', max_leaf_nodes=None,\n",
       "           min_impurity_split=1e-07, min_samples_leaf=1,\n",
       "           min_samples_split=2, min_weight_fraction_leaf=0.0,\n",
       "           n_estimators=10, n_jobs=1, oob_score=False, random_state=42,\n",
       "           verbose=0, warm_start=False),\n",
       "          fit_params={}, iid=True, n_iter=10, n_jobs=1,\n",
       "          param_distributions={u'n_estimators': <scipy.stats._distn_infrastructure.rv_frozen object at 0x000000002EE935F8>, u'max_features': <scipy.stats._distn_infrastructure.rv_frozen object at 0x000000001EA9AA58>},\n",
       "          pre_dispatch='2*n_jobs', random_state=42, refit=True,\n",
       "          return_train_score=True, scoring=u'neg_mean_squared_error',\n",
       "          verbose=0)"
      ]
     },
     "execution_count": 432,
     "metadata": {},
     "output_type": "execute_result"
    }
   ],
   "source": [
    "from sklearn.model_selection import RandomizedSearchCV\n",
    "from scipy.stats import randint\n",
    "\n",
    "param_distribs = {\n",
    "        'n_estimators': randint(low=1, high=200),\n",
    "        'max_features': randint(low=1, high=8),\n",
    "    }\n",
    "\n",
    "forest_reg = RandomForestRegressor(random_state=42)\n",
    "rnd_search = RandomizedSearchCV(forest_reg, param_distributions=param_distribs,\n",
    "                                n_iter=10, cv=5, scoring='neg_mean_squared_error', random_state=42)\n",
    "rnd_search.fit(X_train, y_train)"
   ]
  },
  {
   "cell_type": "code",
   "execution_count": 433,
   "metadata": {
    "collapsed": false
   },
   "outputs": [
    {
     "name": "stdout",
     "output_type": "stream",
     "text": [
      "0.0660741247009 {u'max_features': 7, u'n_estimators': 180}\n",
      "0.0680199542317 {u'max_features': 5, u'n_estimators': 15}\n",
      "0.0662848444109 {u'max_features': 3, u'n_estimators': 72}\n",
      "0.0673987583603 {u'max_features': 5, u'n_estimators': 21}\n",
      "0.0661713651962 {u'max_features': 7, u'n_estimators': 122}\n",
      "0.0662634229794 {u'max_features': 3, u'n_estimators': 75}\n",
      "0.0661989301312 {u'max_features': 3, u'n_estimators': 88}\n",
      "0.0661600501404 {u'max_features': 5, u'n_estimators': 100}\n",
      "0.0660719013187 {u'max_features': 3, u'n_estimators': 150}\n",
      "0.0804713005094 {u'max_features': 5, u'n_estimators': 2}\n"
     ]
    }
   ],
   "source": [
    "cvres = rnd_search.cv_results_\n",
    "for mean_score, params in zip(cvres[\"mean_test_score\"], cvres[\"params\"]):\n",
    "    print(np.sqrt(-mean_score), params)"
   ]
  },
  {
   "cell_type": "code",
   "execution_count": 434,
   "metadata": {
    "collapsed": false
   },
   "outputs": [
    {
     "data": {
      "text/plain": [
       "{u'max_features': 3, u'n_estimators': 150}"
      ]
     },
     "execution_count": 434,
     "metadata": {},
     "output_type": "execute_result"
    }
   ],
   "source": [
    "rnd_search.best_params_"
   ]
  },
  {
   "cell_type": "code",
   "execution_count": 435,
   "metadata": {
    "collapsed": false
   },
   "outputs": [
    {
     "data": {
      "text/plain": [
       "{u'max_features': 4, u'n_estimators': 30}"
      ]
     },
     "execution_count": 435,
     "metadata": {},
     "output_type": "execute_result"
    }
   ],
   "source": [
    "grid_search.best_params_"
   ]
  },
  {
   "cell_type": "code",
   "execution_count": null,
   "metadata": {
    "collapsed": true
   },
   "outputs": [],
   "source": [
    "#Let's see which search (grid or random) creates the better tuned model"
   ]
  },
  {
   "cell_type": "code",
   "execution_count": 437,
   "metadata": {
    "collapsed": true
   },
   "outputs": [],
   "source": [
    "final_model_grid = grid_search.best_estimator_"
   ]
  },
  {
   "cell_type": "code",
   "execution_count": 438,
   "metadata": {
    "collapsed": true
   },
   "outputs": [],
   "source": [
    "final_model_rand = rnd_search.best_estimator_"
   ]
  },
  {
   "cell_type": "code",
   "execution_count": 439,
   "metadata": {
    "collapsed": false
   },
   "outputs": [],
   "source": [
    "from sklearn.metrics import mean_absolute_error\n",
    "\n",
    "grid_predictions = final_model_grid.predict(X_train)\n",
    "grid_mae_train = mean_absolute_error(y_train, grid_predictions)\n",
    "\n",
    "rand_predictions = final_model_rand.predict(X_train)\n",
    "rand_mae_train = mean_absolute_error(y_train, rand_predictions)\n"
   ]
  },
  {
   "cell_type": "code",
   "execution_count": 440,
   "metadata": {
    "collapsed": false
   },
   "outputs": [],
   "source": [
    "from sklearn.metrics import mean_absolute_error\n",
    "\n",
    "grid_predictions_test = final_model_grid.predict(X_test)\n",
    "grid_mae_test = mean_absolute_error(y_test, grid_predictions_test)\n",
    "\n",
    "rand_predictions_test = final_model_rand.predict(X_test)\n",
    "rand_mae_test = mean_absolute_error(y_test, rand_predictions_test)\n"
   ]
  },
  {
   "cell_type": "code",
   "execution_count": 441,
   "metadata": {
    "collapsed": false
   },
   "outputs": [
    {
     "name": "stdout",
     "output_type": "stream",
     "text": [
      "Grid Search Train:\n",
      "0.0189056725846\n",
      "Random Search Train:\n",
      "0.0180769066691\n",
      "Grid Search Test:\n",
      "0.0496360430234\n",
      "Random Search Test:\n",
      "0.0486986498255\n"
     ]
    }
   ],
   "source": [
    "# The slight edge goes to the grid search\n",
    "print(\"Grid Search Train:\")\n",
    "print(grid_mae_train)\n",
    "print(\"Random Search Train:\")\n",
    "print(rand_mae_train)\n",
    "\n",
    "print(\"Grid Search Test:\")\n",
    "print(grid_mae_test)\n",
    "print(\"Random Search Test:\")\n",
    "print(rand_mae_test)"
   ]
  },
  {
   "cell_type": "code",
   "execution_count": 443,
   "metadata": {
    "collapsed": false
   },
   "outputs": [
    {
     "data": {
      "text/plain": [
       "array([ 0.00122112,  0.01334049,  0.02207096,  0.00778138,  0.01148028,\n",
       "        0.06725813,  0.06253804,  0.00158106,  0.00914995,  0.00341429,\n",
       "        0.01344118,  0.00660839,  0.06886796,  0.06749109,  0.06734797,\n",
       "        0.00875509,  0.04929512,  0.02749556,  0.00155309,  0.02673227,\n",
       "        0.04431291,  0.00691541,  0.00389964,  0.05975137,  0.07531756,\n",
       "        0.07182922,  0.        ,  0.07270727,  0.07815092,  0.04969225])"
      ]
     },
     "execution_count": 443,
     "metadata": {},
     "output_type": "execute_result"
    }
   ],
   "source": [
    "feature_importances_grid = grid_search.best_estimator_.feature_importances_\n",
    "feature_importances_grid"
   ]
  },
  {
   "cell_type": "code",
   "execution_count": 468,
   "metadata": {
    "collapsed": false
   },
   "outputs": [
    {
     "data": {
      "text/plain": [
       "array([12, 24, 25, 27, 28], dtype=int64)"
      ]
     },
     "execution_count": 468,
     "metadata": {},
     "output_type": "execute_result"
    }
   ],
   "source": [
    "best_features_grid = feature_finder(feature_importances_grid, 5)\n",
    "best_features_grid"
   ]
  },
  {
   "cell_type": "code",
   "execution_count": 470,
   "metadata": {
    "collapsed": false
   },
   "outputs": [],
   "source": [
    "#np.array(attributes)[best_features_grid]"
   ]
  },
  {
   "cell_type": "code",
   "execution_count": 454,
   "metadata": {
    "collapsed": false
   },
   "outputs": [
    {
     "data": {
      "text/plain": [
       "[(0.022070958115352032, u'threequarterbathnbr'),\n",
       " (0.013340488791848444, u'yardbuildingsqft26'),\n",
       " (0.0077813845710066271, u'finishedsquarefeet12'),\n",
       " (0.001221123882852463, u'basementsqft')]"
      ]
     },
     "execution_count": 454,
     "metadata": {},
     "output_type": "execute_result"
    }
   ],
   "source": [
    "# Double check feature importance\n",
    "k = 5\n",
    "sorted(zip(feature_importances_grid, attributes), reverse=True)[:k]"
   ]
  },
  {
   "cell_type": "code",
   "execution_count": null,
   "metadata": {
    "collapsed": true
   },
   "outputs": [],
   "source": [
    "# Final predictions\n",
    "\n",
    "X_test_prepared = full_pipeline.transform(X_test)\n",
    "final_predictions = final_model.predict(X_test_prepared)"
   ]
  },
  {
   "cell_type": "code",
   "execution_count": 316,
   "metadata": {
    "collapsed": false
   },
   "outputs": [],
   "source": [
    "# Include same features for training and test set\n",
    "test_df = test_df.drop(['propertyzoningdesc', 'propertycountylandusecode', 'parcelid',\n",
    "                        'taxdelinquencyyear', 'taxdelinquencyflag', 'fireplaceflag', 'yardbuildingsqft26', \n",
    "                       'yardbuildingsqft17', 'typeconstructiontypeid', 'storytypeid', 'poolsizesum', \n",
    "                       'pooltypeid10', 'pooltypeid2', 'hashottuborspa',\n",
    "                       'finishedsquarefeet13', 'finishedsquarefeet15', 'finishedsquarefeet50', 'finishedsquarefeet6',\n",
    "                       'decktypeid', 'finishedfloor1squarefeet', 'buildingclasstypeid', \n",
    "                       'architecturalstyletypeid', 'basementsqft', 'architecturalstyletypeid',\n",
    "                       'threequarterbathnbr', 'fireplacecnt', 'poolcnt', 'pooltypeid7', 'numberofstories', '201610',\n",
    "                        '201611','201612', '201710', '201711', '201712'], axis = 1)"
   ]
  },
  {
   "cell_type": "code",
   "execution_count": 318,
   "metadata": {
    "collapsed": false
   },
   "outputs": [
    {
     "data": {
      "text/plain": [
       "(2985217, 30)"
      ]
     },
     "execution_count": 318,
     "metadata": {},
     "output_type": "execute_result"
    }
   ],
   "source": [
    "test_df.shape"
   ]
  },
  {
   "cell_type": "code",
   "execution_count": 320,
   "metadata": {
    "collapsed": true
   },
   "outputs": [],
   "source": [
    "# prepare test data for machine learning\n",
    "num_attribs_test = list(test_df)\n",
    "\n",
    "num_pipeline_test = Pipeline([\n",
    "        ('selector', DataFrameSelector(num_attribs)),\n",
    "        ('imputer', Imputer(strategy=\"median\")),\n",
    "        ('std_scaler', StandardScaler()),\n",
    "    ])\n"
   ]
  },
  {
   "cell_type": "code",
   "execution_count": 321,
   "metadata": {
    "collapsed": true
   },
   "outputs": [],
   "source": [
    "test_df_prepared = num_pipeline.transform(test_df)"
   ]
  },
  {
   "cell_type": "code",
   "execution_count": 322,
   "metadata": {
    "collapsed": false
   },
   "outputs": [
    {
     "data": {
      "text/plain": [
       "(2985217L, 30L)"
      ]
     },
     "execution_count": 322,
     "metadata": {},
     "output_type": "execute_result"
    }
   ],
   "source": [
    "test_df_prepared.shape"
   ]
  },
  {
   "cell_type": "code",
   "execution_count": 364,
   "metadata": {
    "collapsed": false
   },
   "outputs": [],
   "source": [
    "RF_rand_final_predictions = final_model_rand.predict(test_df_prepared)"
   ]
  },
  {
   "cell_type": "code",
   "execution_count": 365,
   "metadata": {
    "collapsed": false
   },
   "outputs": [],
   "source": [
    "submission_file = pd.read_csv('sample_submission.csv') \n",
    "for column in submission_file.columns[submission_file.columns != 'ParcelId']:\n",
    "    submission_file[column] = RF_rand_final_predictions"
   ]
  },
  {
   "cell_type": "code",
   "execution_count": 367,
   "metadata": {
    "collapsed": false
   },
   "outputs": [],
   "source": [
    "submission_file.to_csv('RF_final_predictions.csv', index=False, float_format='%.4f')"
   ]
  }
 ],
 "metadata": {
  "anaconda-cloud": {},
  "kernelspec": {
   "display_name": "Python [conda env:DAND]",
   "language": "python",
   "name": "conda-env-DAND-py"
  },
  "language_info": {
   "codemirror_mode": {
    "name": "ipython",
    "version": 2
   },
   "file_extension": ".py",
   "mimetype": "text/x-python",
   "name": "python",
   "nbconvert_exporter": "python",
   "pygments_lexer": "ipython2",
   "version": "2.7.12"
  }
 },
 "nbformat": 4,
 "nbformat_minor": 2
}
